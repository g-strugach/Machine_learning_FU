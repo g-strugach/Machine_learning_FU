{
 "cells": [
  {
   "cell_type": "markdown",
   "metadata": {},
   "source": [
    "# 1. Загрузка датасета и его обработка"
   ]
  },
  {
   "cell_type": "code",
   "execution_count": 47,
   "metadata": {},
   "outputs": [
    {
     "name": "stderr",
     "output_type": "stream",
     "text": [
      "/Users/grigory/opt/anaconda3/lib/python3.7/site-packages/IPython/core/interactiveshell.py:3058: DtypeWarning: Columns (4,7,9,12,18) have mixed types. Specify dtype option on import or set low_memory=False.\n",
      "  interactivity=interactivity, compiler=compiler, result=result)\n"
     ]
    },
    {
     "data": {
      "text/html": [
       "<div>\n",
       "<style scoped>\n",
       "    .dataframe tbody tr th:only-of-type {\n",
       "        vertical-align: middle;\n",
       "    }\n",
       "\n",
       "    .dataframe tbody tr th {\n",
       "        vertical-align: top;\n",
       "    }\n",
       "\n",
       "    .dataframe thead th {\n",
       "        text-align: right;\n",
       "    }\n",
       "</style>\n",
       "<table border=\"1\" class=\"dataframe\">\n",
       "  <thead>\n",
       "    <tr style=\"text-align: right;\">\n",
       "      <th></th>\n",
       "      <th>seller</th>\n",
       "      <th>offerType</th>\n",
       "      <th>price</th>\n",
       "      <th>abtest</th>\n",
       "      <th>vehicleType</th>\n",
       "      <th>yearOfRegistration</th>\n",
       "      <th>gearbox</th>\n",
       "      <th>powerPS</th>\n",
       "      <th>model</th>\n",
       "      <th>kilometer</th>\n",
       "      <th>monthOfRegistration</th>\n",
       "      <th>fuelType</th>\n",
       "      <th>brand</th>\n",
       "      <th>notRepairedDamage</th>\n",
       "      <th>dateCreated</th>\n",
       "    </tr>\n",
       "  </thead>\n",
       "  <tbody>\n",
       "    <tr>\n",
       "      <td>0</td>\n",
       "      <td>privat</td>\n",
       "      <td>Angebot</td>\n",
       "      <td>480</td>\n",
       "      <td>test</td>\n",
       "      <td>NaN</td>\n",
       "      <td>1993</td>\n",
       "      <td>manuell</td>\n",
       "      <td>0</td>\n",
       "      <td>golf</td>\n",
       "      <td>150000.0</td>\n",
       "      <td>0</td>\n",
       "      <td>benzin</td>\n",
       "      <td>volkswagen</td>\n",
       "      <td>NaN</td>\n",
       "      <td>2016-03-24 00:00:00</td>\n",
       "    </tr>\n",
       "    <tr>\n",
       "      <td>1</td>\n",
       "      <td>privat</td>\n",
       "      <td>Angebot</td>\n",
       "      <td>18300</td>\n",
       "      <td>test</td>\n",
       "      <td>coupe</td>\n",
       "      <td>2011</td>\n",
       "      <td>manuell</td>\n",
       "      <td>190</td>\n",
       "      <td>NaN</td>\n",
       "      <td>125000.0</td>\n",
       "      <td>5</td>\n",
       "      <td>diesel</td>\n",
       "      <td>audi</td>\n",
       "      <td>ja</td>\n",
       "      <td>2016-03-24 00:00:00</td>\n",
       "    </tr>\n",
       "    <tr>\n",
       "      <td>3</td>\n",
       "      <td>privat</td>\n",
       "      <td>Angebot</td>\n",
       "      <td>1500</td>\n",
       "      <td>test</td>\n",
       "      <td>kleinwagen</td>\n",
       "      <td>2001</td>\n",
       "      <td>manuell</td>\n",
       "      <td>75</td>\n",
       "      <td>golf</td>\n",
       "      <td>150000.0</td>\n",
       "      <td>6</td>\n",
       "      <td>benzin</td>\n",
       "      <td>volkswagen</td>\n",
       "      <td>nein</td>\n",
       "      <td>2016-03-17 00:00:00</td>\n",
       "    </tr>\n",
       "    <tr>\n",
       "      <td>4</td>\n",
       "      <td>privat</td>\n",
       "      <td>Angebot</td>\n",
       "      <td>3600</td>\n",
       "      <td>test</td>\n",
       "      <td>kleinwagen</td>\n",
       "      <td>2008</td>\n",
       "      <td>manuell</td>\n",
       "      <td>69</td>\n",
       "      <td>fabia</td>\n",
       "      <td>90000.0</td>\n",
       "      <td>7</td>\n",
       "      <td>diesel</td>\n",
       "      <td>skoda</td>\n",
       "      <td>nein</td>\n",
       "      <td>2016-03-31 00:00:00</td>\n",
       "    </tr>\n",
       "    <tr>\n",
       "      <td>5</td>\n",
       "      <td>privat</td>\n",
       "      <td>Angebot</td>\n",
       "      <td>650</td>\n",
       "      <td>test</td>\n",
       "      <td>limousine</td>\n",
       "      <td>1995</td>\n",
       "      <td>manuell</td>\n",
       "      <td>102</td>\n",
       "      <td>3er</td>\n",
       "      <td>150000.0</td>\n",
       "      <td>10</td>\n",
       "      <td>benzin</td>\n",
       "      <td>bmw</td>\n",
       "      <td>ja</td>\n",
       "      <td>2016-04-04 00:00:00</td>\n",
       "    </tr>\n",
       "    <tr>\n",
       "      <td>...</td>\n",
       "      <td>...</td>\n",
       "      <td>...</td>\n",
       "      <td>...</td>\n",
       "      <td>...</td>\n",
       "      <td>...</td>\n",
       "      <td>...</td>\n",
       "      <td>...</td>\n",
       "      <td>...</td>\n",
       "      <td>...</td>\n",
       "      <td>...</td>\n",
       "      <td>...</td>\n",
       "      <td>...</td>\n",
       "      <td>...</td>\n",
       "      <td>...</td>\n",
       "      <td>...</td>\n",
       "    </tr>\n",
       "    <tr>\n",
       "      <td>371819</td>\n",
       "      <td>privat</td>\n",
       "      <td>Angebot</td>\n",
       "      <td>2200</td>\n",
       "      <td>test</td>\n",
       "      <td>NaN</td>\n",
       "      <td>2005</td>\n",
       "      <td>NaN</td>\n",
       "      <td>0</td>\n",
       "      <td>NaN</td>\n",
       "      <td>20000.0</td>\n",
       "      <td>1</td>\n",
       "      <td>NaN</td>\n",
       "      <td>sonstige_autos</td>\n",
       "      <td>NaN</td>\n",
       "      <td>2016-03-14 00:00:00</td>\n",
       "    </tr>\n",
       "    <tr>\n",
       "      <td>371820</td>\n",
       "      <td>privat</td>\n",
       "      <td>Angebot</td>\n",
       "      <td>1199</td>\n",
       "      <td>test</td>\n",
       "      <td>cabrio</td>\n",
       "      <td>2000</td>\n",
       "      <td>automatik</td>\n",
       "      <td>101</td>\n",
       "      <td>fortwo</td>\n",
       "      <td>125000.0</td>\n",
       "      <td>3</td>\n",
       "      <td>benzin</td>\n",
       "      <td>smart</td>\n",
       "      <td>nein</td>\n",
       "      <td>2016-03-05 00:00:00</td>\n",
       "    </tr>\n",
       "    <tr>\n",
       "      <td>371821</td>\n",
       "      <td>privat</td>\n",
       "      <td>Angebot</td>\n",
       "      <td>9200</td>\n",
       "      <td>test</td>\n",
       "      <td>bus</td>\n",
       "      <td>1996</td>\n",
       "      <td>manuell</td>\n",
       "      <td>102</td>\n",
       "      <td>transporter</td>\n",
       "      <td>150000.0</td>\n",
       "      <td>3</td>\n",
       "      <td>diesel</td>\n",
       "      <td>volkswagen</td>\n",
       "      <td>nein</td>\n",
       "      <td>2016-03-19 00:00:00</td>\n",
       "    </tr>\n",
       "    <tr>\n",
       "      <td>371822</td>\n",
       "      <td>privat</td>\n",
       "      <td>Angebot</td>\n",
       "      <td>3400</td>\n",
       "      <td>test</td>\n",
       "      <td>kombi</td>\n",
       "      <td>2002</td>\n",
       "      <td>manuell</td>\n",
       "      <td>100</td>\n",
       "      <td>golf</td>\n",
       "      <td>150000.0</td>\n",
       "      <td>6</td>\n",
       "      <td>diesel</td>\n",
       "      <td>volkswagen</td>\n",
       "      <td>NaN</td>\n",
       "      <td>2016-03-20 00:00:00</td>\n",
       "    </tr>\n",
       "    <tr>\n",
       "      <td>371823</td>\n",
       "      <td>privat</td>\n",
       "      <td>Angebot</td>\n",
       "      <td>28990</td>\n",
       "      <td>control</td>\n",
       "      <td>limousine</td>\n",
       "      <td>2013</td>\n",
       "      <td>manuell</td>\n",
       "      <td>320</td>\n",
       "      <td>m_reihe</td>\n",
       "      <td>50000.0</td>\n",
       "      <td>8</td>\n",
       "      <td>benzin</td>\n",
       "      <td>bmw</td>\n",
       "      <td>nein</td>\n",
       "      <td>2016-03-07 00:00:00</td>\n",
       "    </tr>\n",
       "  </tbody>\n",
       "</table>\n",
       "<p>365503 rows × 15 columns</p>\n",
       "</div>"
      ],
      "text/plain": [
       "        seller offerType  price   abtest vehicleType yearOfRegistration  \\\n",
       "0       privat   Angebot    480     test         NaN               1993   \n",
       "1       privat   Angebot  18300     test       coupe               2011   \n",
       "3       privat   Angebot   1500     test  kleinwagen               2001   \n",
       "4       privat   Angebot   3600     test  kleinwagen               2008   \n",
       "5       privat   Angebot    650     test   limousine               1995   \n",
       "...        ...       ...    ...      ...         ...                ...   \n",
       "371819  privat   Angebot   2200     test         NaN               2005   \n",
       "371820  privat   Angebot   1199     test      cabrio               2000   \n",
       "371821  privat   Angebot   9200     test         bus               1996   \n",
       "371822  privat   Angebot   3400     test       kombi               2002   \n",
       "371823  privat   Angebot  28990  control   limousine               2013   \n",
       "\n",
       "          gearbox powerPS        model  kilometer monthOfRegistration  \\\n",
       "0         manuell       0         golf   150000.0                   0   \n",
       "1         manuell     190          NaN   125000.0                   5   \n",
       "3         manuell      75         golf   150000.0                   6   \n",
       "4         manuell      69        fabia    90000.0                   7   \n",
       "5         manuell     102          3er   150000.0                  10   \n",
       "...           ...     ...          ...        ...                 ...   \n",
       "371819        NaN       0          NaN    20000.0                   1   \n",
       "371820  automatik     101       fortwo   125000.0                   3   \n",
       "371821    manuell     102  transporter   150000.0                   3   \n",
       "371822    manuell     100         golf   150000.0                   6   \n",
       "371823    manuell     320      m_reihe    50000.0                   8   \n",
       "\n",
       "       fuelType           brand notRepairedDamage          dateCreated  \n",
       "0        benzin      volkswagen               NaN  2016-03-24 00:00:00  \n",
       "1        diesel            audi                ja  2016-03-24 00:00:00  \n",
       "3        benzin      volkswagen              nein  2016-03-17 00:00:00  \n",
       "4        diesel           skoda              nein  2016-03-31 00:00:00  \n",
       "5        benzin             bmw                ja  2016-04-04 00:00:00  \n",
       "...         ...             ...               ...                  ...  \n",
       "371819      NaN  sonstige_autos               NaN  2016-03-14 00:00:00  \n",
       "371820   benzin           smart              nein  2016-03-05 00:00:00  \n",
       "371821   diesel      volkswagen              nein  2016-03-19 00:00:00  \n",
       "371822   diesel      volkswagen               NaN  2016-03-20 00:00:00  \n",
       "371823   benzin             bmw              nein  2016-03-07 00:00:00  \n",
       "\n",
       "[365503 rows x 15 columns]"
      ]
     },
     "execution_count": 47,
     "metadata": {},
     "output_type": "execute_result"
    }
   ],
   "source": [
    "import pandas as pd\n",
    "import matplotlib.pyplot as plt\n",
    "df = pd.read_csv('cars.csv', encoding = 'cp1251', sep = ',')\n",
    "df.drop(columns={'dateCrawled','lastSeen;;;;;;;;', 'nrOfPictures', 'postalCode', 'name'}, inplace = True)\n",
    "df.drop_duplicates(inplace= True)\n",
    "df.dropna(how = 'all', inplace = True)\n",
    "df = df[df['price'] != 'test']\n",
    "df = df[df['price'] != 'control']\n",
    "df"
   ]
  },
  {
   "cell_type": "markdown",
   "metadata": {},
   "source": [
    "# 2.\tСделайте описательную статистику: размер, типы переменных, пустые значения, уникальные имена и т.д."
   ]
  },
  {
   "cell_type": "code",
   "execution_count": 2,
   "metadata": {},
   "outputs": [
    {
     "name": "stdout",
     "output_type": "stream",
     "text": [
      "<class 'pandas.core.frame.DataFrame'>\n",
      "Int64Index: 365503 entries, 0 to 371823\n",
      "Data columns (total 15 columns):\n",
      "seller                 365503 non-null object\n",
      "offerType              365503 non-null object\n",
      "price                  365503 non-null object\n",
      "abtest                 365503 non-null object\n",
      "vehicleType            327953 non-null object\n",
      "yearOfRegistration     365503 non-null object\n",
      "gearbox                345612 non-null object\n",
      "powerPS                365503 non-null object\n",
      "model                  345181 non-null object\n",
      "kilometer              365503 non-null float64\n",
      "monthOfRegistration    365503 non-null object\n",
      "fuelType               332376 non-null object\n",
      "brand                  365503 non-null object\n",
      "notRepairedDamage      294194 non-null object\n",
      "dateCreated            365503 non-null object\n",
      "dtypes: float64(1), object(14)\n",
      "memory usage: 44.6+ MB\n"
     ]
    }
   ],
   "source": [
    "df.info()"
   ]
  },
  {
   "cell_type": "code",
   "execution_count": 3,
   "metadata": {},
   "outputs": [
    {
     "data": {
      "text/plain": [
       "seller                  object\n",
       "offerType               object\n",
       "price                   object\n",
       "abtest                  object\n",
       "vehicleType             object\n",
       "yearOfRegistration      object\n",
       "gearbox                 object\n",
       "powerPS                 object\n",
       "model                   object\n",
       "kilometer              float64\n",
       "monthOfRegistration     object\n",
       "fuelType                object\n",
       "brand                   object\n",
       "notRepairedDamage       object\n",
       "dateCreated             object\n",
       "dtype: object"
      ]
     },
     "execution_count": 3,
     "metadata": {},
     "output_type": "execute_result"
    }
   ],
   "source": [
    "df.dtypes"
   ]
  },
  {
   "cell_type": "code",
   "execution_count": 4,
   "metadata": {},
   "outputs": [
    {
     "data": {
      "text/plain": [
       "(365503, 15)"
      ]
     },
     "execution_count": 4,
     "metadata": {},
     "output_type": "execute_result"
    }
   ],
   "source": [
    "df.shape"
   ]
  },
  {
   "cell_type": "code",
   "execution_count": 5,
   "metadata": {},
   "outputs": [
    {
     "data": {
      "text/plain": [
       "seller                     0\n",
       "offerType                  0\n",
       "price                      0\n",
       "abtest                     0\n",
       "vehicleType            37550\n",
       "yearOfRegistration         0\n",
       "gearbox                19891\n",
       "powerPS                    0\n",
       "model                  20322\n",
       "kilometer                  0\n",
       "monthOfRegistration        0\n",
       "fuelType               33127\n",
       "brand                      0\n",
       "notRepairedDamage      71309\n",
       "dateCreated                0\n",
       "dtype: int64"
      ]
     },
     "execution_count": 5,
     "metadata": {},
     "output_type": "execute_result"
    }
   ],
   "source": [
    "df.isnull().sum()"
   ]
  },
  {
   "cell_type": "code",
   "execution_count": 6,
   "metadata": {},
   "outputs": [
    {
     "data": {
      "text/plain": [
       "seller                    2\n",
       "offerType                 2\n",
       "price                  8339\n",
       "abtest                    2\n",
       "vehicleType               8\n",
       "yearOfRegistration      260\n",
       "gearbox                   2\n",
       "powerPS                1271\n",
       "model                   251\n",
       "kilometer                13\n",
       "monthOfRegistration      26\n",
       "fuelType                  7\n",
       "brand                    40\n",
       "notRepairedDamage         2\n",
       "dateCreated             113\n",
       "dtype: int64"
      ]
     },
     "execution_count": 6,
     "metadata": {},
     "output_type": "execute_result"
    }
   ],
   "source": [
    "df.nunique()"
   ]
  },
  {
   "cell_type": "markdown",
   "metadata": {},
   "source": [
    "# 3.\tПоработайте с типами переменных. Все числовые значения переведите в формат int."
   ]
  },
  {
   "cell_type": "code",
   "execution_count": 48,
   "metadata": {},
   "outputs": [],
   "source": [
    "df['price'] = df['price'].astype('int64')\n",
    "df['powerPS'] = df['powerPS'].astype('int64')\n",
    "df['yearOfRegistration'] = df['yearOfRegistration'].astype('int64')"
   ]
  },
  {
   "cell_type": "code",
   "execution_count": 8,
   "metadata": {},
   "outputs": [
    {
     "name": "stdout",
     "output_type": "stream",
     "text": [
      "<class 'pandas.core.frame.DataFrame'>\n",
      "Int64Index: 365503 entries, 0 to 371823\n",
      "Data columns (total 15 columns):\n",
      "seller                 365503 non-null object\n",
      "offerType              365503 non-null object\n",
      "price                  365503 non-null int64\n",
      "abtest                 365503 non-null object\n",
      "vehicleType            327953 non-null object\n",
      "yearOfRegistration     365503 non-null int64\n",
      "gearbox                345612 non-null object\n",
      "powerPS                365503 non-null int64\n",
      "model                  345181 non-null object\n",
      "kilometer              365503 non-null float64\n",
      "monthOfRegistration    365503 non-null object\n",
      "fuelType               332376 non-null object\n",
      "brand                  365503 non-null object\n",
      "notRepairedDamage      294194 non-null object\n",
      "dateCreated            365503 non-null object\n",
      "dtypes: float64(1), int64(3), object(11)\n",
      "memory usage: 44.6+ MB\n"
     ]
    }
   ],
   "source": [
    "df.info()"
   ]
  },
  {
   "cell_type": "markdown",
   "metadata": {},
   "source": [
    "# 4.\tПоработайте со столбцом price. Постройте гистограмму, найдите выбросы (ящиковая диаграмма), удалите аномальные значения, постарайтесь привести к нормальному распределению."
   ]
  },
  {
   "cell_type": "code",
   "execution_count": 9,
   "metadata": {},
   "outputs": [
    {
     "data": {
      "text/plain": [
       "array([[<matplotlib.axes._subplots.AxesSubplot object at 0x7fb1db177fd0>]],\n",
       "      dtype=object)"
      ]
     },
     "execution_count": 9,
     "metadata": {},
     "output_type": "execute_result"
    },
    {
     "data": {
      "image/png": "[encoded data removed]",
      "text/plain": [
       "<Figure size 432x288 with 1 Axes>"
      ]
     },
     "metadata": {
      "needs_background": "light"
     },
     "output_type": "display_data"
    }
   ],
   "source": [
    "df.hist(column = 'price')"
   ]
  },
  {
   "cell_type": "code",
   "execution_count": 10,
   "metadata": {},
   "outputs": [
    {
     "data": {
      "text/plain": [
       "<matplotlib.axes._subplots.AxesSubplot at 0x7fb1da48f390>"
      ]
     },
     "execution_count": 10,
     "metadata": {},
     "output_type": "execute_result"
    },
    {
     "data": {
      "image/png": "[encoded data removed]",
      "text/plain": [
       "<Figure size 432x288 with 1 Axes>"
      ]
     },
     "metadata": {
      "needs_background": "light"
     },
     "output_type": "display_data"
    }
   ],
   "source": [
    "df.boxplot(column = 'price')"
   ]
  },
  {
   "cell_type": "code",
   "execution_count": 11,
   "metadata": {},
   "outputs": [],
   "source": [
    "df = df[df['price'] < df['price'].quantile(0.75)]\n",
    "df = df[df['price'] > df['price'].quantile(0.25)]"
   ]
  },
  {
   "cell_type": "code",
   "execution_count": 12,
   "metadata": {},
   "outputs": [
    {
     "data": {
      "text/plain": [
       "<matplotlib.axes._subplots.AxesSubplot at 0x7fb1f978a310>"
      ]
     },
     "execution_count": 12,
     "metadata": {},
     "output_type": "execute_result"
    },
    {
     "data": {
      "image/png": "[encoded data removed]",
      "text/plain": [
       "<Figure size 432x288 with 1 Axes>"
      ]
     },
     "metadata": {
      "needs_background": "light"
     },
     "output_type": "display_data"
    }
   ],
   "source": [
    "df.boxplot(column = 'price')"
   ]
  },
  {
   "cell_type": "code",
   "execution_count": 13,
   "metadata": {},
   "outputs": [
    {
     "data": {
      "text/plain": [
       "array([[<matplotlib.axes._subplots.AxesSubplot object at 0x7fb1da423ed0>]],\n",
       "      dtype=object)"
      ]
     },
     "execution_count": 13,
     "metadata": {},
     "output_type": "execute_result"
    },
    {
     "data": {
      "image/png": "[encoded data removed]",
      "text/plain": [
       "<Figure size 432x288 with 1 Axes>"
      ]
     },
     "metadata": {
      "needs_background": "light"
     },
     "output_type": "display_data"
    }
   ],
   "source": [
    "df.hist(column = 'price')"
   ]
  },
  {
   "cell_type": "markdown",
   "metadata": {},
   "source": [
    "# 5.\tАналогично поработайте и с другими «важными для целевой функции price» параметрами (powerPS, yearOfRegistration, kilometer и т.д). «Важность» докажите через коэффициент корреляции. Сделайте визуализацию."
   ]
  },
  {
   "cell_type": "code",
   "execution_count": 14,
   "metadata": {},
   "outputs": [
    {
     "data": {
      "text/plain": [
       "array([[<matplotlib.axes._subplots.AxesSubplot object at 0x7fb1efe3a510>,\n",
       "        <matplotlib.axes._subplots.AxesSubplot object at 0x7fb1f4b5bf10>],\n",
       "       [<matplotlib.axes._subplots.AxesSubplot object at 0x7fb1f1f31750>,\n",
       "        <matplotlib.axes._subplots.AxesSubplot object at 0x7fb1f5af5f50>]],\n",
       "      dtype=object)"
      ]
     },
     "execution_count": 14,
     "metadata": {},
     "output_type": "execute_result"
    },
    {
     "data": {
      "image/png": "[encoded data removed]",
      "text/plain": [
       "<Figure size 432x288 with 4 Axes>"
      ]
     },
     "metadata": {
      "needs_background": "light"
     },
     "output_type": "display_data"
    }
   ],
   "source": [
    "df.hist()"
   ]
  },
  {
   "cell_type": "code",
   "execution_count": 15,
   "metadata": {},
   "outputs": [
    {
     "data": {
      "text/plain": [
       "<matplotlib.axes._subplots.AxesSubplot at 0x7fb1f717c8d0>"
      ]
     },
     "execution_count": 15,
     "metadata": {},
     "output_type": "execute_result"
    },
    {
     "data": {
      "image/png": "[encoded data removed]",
      "text/plain": [
       "<Figure size 432x288 with 1 Axes>"
      ]
     },
     "metadata": {
      "needs_background": "light"
     },
     "output_type": "display_data"
    }
   ],
   "source": [
    "df.boxplot()"
   ]
  },
  {
   "cell_type": "code",
   "execution_count": 49,
   "metadata": {},
   "outputs": [],
   "source": [
    "df = df[(df['kilometer'] < df['kilometer'].quantile(0.75)) & (df['kilometer'] < df['kilometer'].quantile(0.25))]\n",
    "df = df[(df['powerPS'] < df['powerPS'].quantile(0.75)) & (df['powerPS'] < df['powerPS'].quantile(0.25))]\n",
    "#df = df[(df['yearOfRegistration'] < df['yearOfRegistration'].quantile(0.75)) & (df['yearOfRegistration'] < df['yearOfRegistration'].quantile(0.25))]"
   ]
  },
  {
   "cell_type": "code",
   "execution_count": 56,
   "metadata": {},
   "outputs": [
    {
     "data": {
      "text/plain": [
       "<matplotlib.axes._subplots.AxesSubplot at 0x7fb1dc6ff190>"
      ]
     },
     "execution_count": 56,
     "metadata": {},
     "output_type": "execute_result"
    },
    {
     "data": {
      "image/png": "[encoded data removed]",
      "text/plain": [
       "<Figure size 432x288 with 1 Axes>"
      ]
     },
     "metadata": {
      "needs_background": "light"
     },
     "output_type": "display_data"
    }
   ],
   "source": [
    "df.boxplot(column = 'kilometer')"
   ]
  },
  {
   "cell_type": "code",
   "execution_count": 57,
   "metadata": {},
   "outputs": [
    {
     "data": {
      "text/plain": [
       "<matplotlib.axes._subplots.AxesSubplot at 0x7fb1d563c610>"
      ]
     },
     "execution_count": 57,
     "metadata": {},
     "output_type": "execute_result"
    },
    {
     "data": {
      "image/png": "[encoded data removed]",
      "text/plain": [
       "<Figure size 432x288 with 1 Axes>"
      ]
     },
     "metadata": {
      "needs_background": "light"
     },
     "output_type": "display_data"
    }
   ],
   "source": [
    "df.boxplot(column = 'powerPS')"
   ]
  },
  {
   "cell_type": "code",
   "execution_count": 58,
   "metadata": {},
   "outputs": [
    {
     "data": {
      "text/plain": [
       "<matplotlib.axes._subplots.AxesSubplot at 0x7fb1e4958590>"
      ]
     },
     "execution_count": 58,
     "metadata": {},
     "output_type": "execute_result"
    },
    {
     "data": {
      "image/png": "[encoded data removed]",
      "text/plain": [
       "<Figure size 432x288 with 1 Axes>"
      ]
     },
     "metadata": {
      "needs_background": "light"
     },
     "output_type": "display_data"
    }
   ],
   "source": [
    "df.boxplot(column = 'yearOfRegistration')"
   ]
  },
  {
   "cell_type": "code",
   "execution_count": 20,
   "metadata": {},
   "outputs": [
    {
     "data": {
      "text/plain": [
       "array([[<matplotlib.axes._subplots.AxesSubplot object at 0x7fb1fa0b98d0>,\n",
       "        <matplotlib.axes._subplots.AxesSubplot object at 0x7fb1dad8a750>],\n",
       "       [<matplotlib.axes._subplots.AxesSubplot object at 0x7fb1db87fe10>,\n",
       "        <matplotlib.axes._subplots.AxesSubplot object at 0x7fb1db8f4650>]],\n",
       "      dtype=object)"
      ]
     },
     "execution_count": 20,
     "metadata": {},
     "output_type": "execute_result"
    },
    {
     "data": {
      "image/png": "[encoded data removed]",
      "text/plain": [
       "<Figure size 432x288 with 4 Axes>"
      ]
     },
     "metadata": {
      "needs_background": "light"
     },
     "output_type": "display_data"
    }
   ],
   "source": [
    "df.hist()"
   ]
  },
  {
   "cell_type": "markdown",
   "metadata": {},
   "source": [
    "# 6.\tПостройте ящиковые диаграммы зависимости gearbox, fuelType, vehicleType, notRepairedDamage от price. Сделайте выводы. Можно ли убрать значения с малой частотой? Повлияет ли это на дальнейшее исследование?"
   ]
  },
  {
   "cell_type": "code",
   "execution_count": 21,
   "metadata": {},
   "outputs": [
    {
     "data": {
      "text/plain": [
       "<matplotlib.axes._subplots.AxesSubplot at 0x7fb1dadc9510>"
      ]
     },
     "execution_count": 21,
     "metadata": {},
     "output_type": "execute_result"
    },
    {
     "data": {
      "image/png": "[encoded data removed]",
      "text/plain": [
       "<Figure size 432x288 with 1 Axes>"
      ]
     },
     "metadata": {
      "needs_background": "light"
     },
     "output_type": "display_data"
    }
   ],
   "source": [
    "df.boxplot(column = 'price', by = 'gearbox')"
   ]
  },
  {
   "cell_type": "code",
   "execution_count": 22,
   "metadata": {},
   "outputs": [
    {
     "data": {
      "text/plain": [
       "<matplotlib.axes._subplots.AxesSubplot at 0x7fb1ef837310>"
      ]
     },
     "execution_count": 22,
     "metadata": {},
     "output_type": "execute_result"
    },
    {
     "data": {
      "image/png": "[encoded data removed]",
      "text/plain": [
       "<Figure size 432x288 with 1 Axes>"
      ]
     },
     "metadata": {
      "needs_background": "light"
     },
     "output_type": "display_data"
    }
   ],
   "source": [
    "df.boxplot(column = 'price', by = 'fuelType')"
   ]
  },
  {
   "cell_type": "code",
   "execution_count": 23,
   "metadata": {},
   "outputs": [
    {
     "data": {
      "text/plain": [
       "<matplotlib.axes._subplots.AxesSubplot at 0x7fb1f85ff0d0>"
      ]
     },
     "execution_count": 23,
     "metadata": {},
     "output_type": "execute_result"
    },
    {
     "data": {
      "image/png": "[encoded data removed]",
      "text/plain": [
       "<Figure size 432x288 with 1 Axes>"
      ]
     },
     "metadata": {
      "needs_background": "light"
     },
     "output_type": "display_data"
    }
   ],
   "source": [
    "df.boxplot(column = 'price', by = 'vehicleType')"
   ]
  },
  {
   "cell_type": "code",
   "execution_count": 24,
   "metadata": {},
   "outputs": [
    {
     "data": {
      "text/plain": [
       "<matplotlib.axes._subplots.AxesSubplot at 0x7fb1f9286810>"
      ]
     },
     "execution_count": 24,
     "metadata": {},
     "output_type": "execute_result"
    },
    {
     "data": {
      "image/png": "[encoded data removed]",
      "text/plain": [
       "<Figure size 432x288 with 1 Axes>"
      ]
     },
     "metadata": {
      "needs_background": "light"
     },
     "output_type": "display_data"
    }
   ],
   "source": [
    "df.boxplot(column = 'price', by = 'notRepairedDamage')"
   ]
  },
  {
   "cell_type": "markdown",
   "metadata": {},
   "source": [
    "# 7.\tНайдите пропуски. Удалите столбцы, которые содержат большое количество пропусков. В остальных случаях постарайтесь восстановить пропущенные значения."
   ]
  },
  {
   "cell_type": "code",
   "execution_count": 25,
   "metadata": {},
   "outputs": [
    {
     "data": {
      "text/plain": [
       "seller                   0\n",
       "offerType                0\n",
       "price                    0\n",
       "abtest                   0\n",
       "vehicleType            297\n",
       "yearOfRegistration       0\n",
       "gearbox                433\n",
       "powerPS                  0\n",
       "model                  374\n",
       "kilometer                0\n",
       "monthOfRegistration      0\n",
       "fuelType               441\n",
       "brand                    0\n",
       "notRepairedDamage      666\n",
       "dateCreated              0\n",
       "dtype: int64"
      ]
     },
     "execution_count": 25,
     "metadata": {},
     "output_type": "execute_result"
    }
   ],
   "source": [
    "df.isnull().sum()"
   ]
  },
  {
   "cell_type": "code",
   "execution_count": 26,
   "metadata": {},
   "outputs": [],
   "source": [
    "df.fillna(df.mean(), inplace = True)\n",
    "df.fillna(df.mode().iloc[0], inplace = True)"
   ]
  },
  {
   "cell_type": "code",
   "execution_count": 27,
   "metadata": {
    "scrolled": true
   },
   "outputs": [
    {
     "data": {
      "text/plain": [
       "seller                 0\n",
       "offerType              0\n",
       "price                  0\n",
       "abtest                 0\n",
       "vehicleType            0\n",
       "yearOfRegistration     0\n",
       "gearbox                0\n",
       "powerPS                0\n",
       "model                  0\n",
       "kilometer              0\n",
       "monthOfRegistration    0\n",
       "fuelType               0\n",
       "brand                  0\n",
       "notRepairedDamage      0\n",
       "dateCreated            0\n",
       "dtype: int64"
      ]
     },
     "execution_count": 27,
     "metadata": {},
     "output_type": "execute_result"
    }
   ],
   "source": [
    "df.isnull().sum()"
   ]
  },
  {
   "cell_type": "code",
   "execution_count": 63,
   "metadata": {},
   "outputs": [
    {
     "data": {
      "text/plain": [
       "LinearRegression(copy_X=True, fit_intercept=True, n_jobs=None, normalize=False)"
      ]
     },
     "execution_count": 63,
     "metadata": {},
     "output_type": "execute_result"
    }
   ],
   "source": [
    "from sklearn.linear_model import LinearRegression\n",
    "X = df[['yearOfRegistration', 'powerPS', 'kilometer']]\n",
    "y = df['price']\n",
    "model = LinearRegression()\n",
    "model.fit(X, y)"
   ]
  },
  {
   "cell_type": "code",
   "execution_count": 64,
   "metadata": {},
   "outputs": [
    {
     "data": {
      "text/plain": [
       "0.0005271630523007165"
      ]
     },
     "execution_count": 64,
     "metadata": {},
     "output_type": "execute_result"
    }
   ],
   "source": [
    "model.score(X, y)"
   ]
  },
  {
   "cell_type": "code",
   "execution_count": 80,
   "metadata": {},
   "outputs": [
    {
     "name": "stdout",
     "output_type": "stream",
     "text": [
      "Введите год выпуска, кол-во лошадиных сил, пробег: 1985 50 1000\n"
     ]
    },
    {
     "data": {
      "text/plain": [
       "array([51234.31286878])"
      ]
     },
     "execution_count": 80,
     "metadata": {},
     "output_type": "execute_result"
    }
   ],
   "source": [
    "import numpy as np\n",
    "a1, a2, a3 = input('Введите год выпуска, кол-во лошадиных сил, пробег: ').split()\n",
    "data = np.array([int(a1), int(a2), int(a3)])\n",
    "data = data.reshape(1, -1)\n",
    "model.predict(data)"
   ]
  },
  {
   "cell_type": "code",
   "execution_count": null,
   "metadata": {},
   "outputs": [],
   "source": []
  },
  {
   "cell_type": "markdown",
   "metadata": {},
   "source": [
    "# 8.\tСохраните полученный датасет и выведете его."
   ]
  },
  {
   "cell_type": "code",
   "execution_count": 28,
   "metadata": {},
   "outputs": [],
   "source": [
    "df.to_excel('LAB3.xlsx')"
   ]
  },
  {
   "cell_type": "code",
   "execution_count": 29,
   "metadata": {},
   "outputs": [
    {
     "data": {
      "text/html": [
       "<div>\n",
       "<style scoped>\n",
       "    .dataframe tbody tr th:only-of-type {\n",
       "        vertical-align: middle;\n",
       "    }\n",
       "\n",
       "    .dataframe tbody tr th {\n",
       "        vertical-align: top;\n",
       "    }\n",
       "\n",
       "    .dataframe thead th {\n",
       "        text-align: right;\n",
       "    }\n",
       "</style>\n",
       "<table border=\"1\" class=\"dataframe\">\n",
       "  <thead>\n",
       "    <tr style=\"text-align: right;\">\n",
       "      <th></th>\n",
       "      <th>Unnamed: 0</th>\n",
       "      <th>seller</th>\n",
       "      <th>offerType</th>\n",
       "      <th>price</th>\n",
       "      <th>abtest</th>\n",
       "      <th>vehicleType</th>\n",
       "      <th>yearOfRegistration</th>\n",
       "      <th>gearbox</th>\n",
       "      <th>powerPS</th>\n",
       "      <th>model</th>\n",
       "      <th>kilometer</th>\n",
       "      <th>monthOfRegistration</th>\n",
       "      <th>fuelType</th>\n",
       "      <th>brand</th>\n",
       "      <th>notRepairedDamage</th>\n",
       "      <th>dateCreated</th>\n",
       "    </tr>\n",
       "  </thead>\n",
       "  <tbody>\n",
       "    <tr>\n",
       "      <td>0</td>\n",
       "      <td>28</td>\n",
       "      <td>privat</td>\n",
       "      <td>Angebot</td>\n",
       "      <td>1990</td>\n",
       "      <td>test</td>\n",
       "      <td>bus</td>\n",
       "      <td>1981</td>\n",
       "      <td>manuell</td>\n",
       "      <td>50</td>\n",
       "      <td>transporter</td>\n",
       "      <td>5000</td>\n",
       "      <td>1</td>\n",
       "      <td>benzin</td>\n",
       "      <td>volkswagen</td>\n",
       "      <td>nein</td>\n",
       "      <td>2016-03-09 00:00:00</td>\n",
       "    </tr>\n",
       "    <tr>\n",
       "      <td>1</td>\n",
       "      <td>496</td>\n",
       "      <td>privat</td>\n",
       "      <td>Angebot</td>\n",
       "      <td>1099</td>\n",
       "      <td>test</td>\n",
       "      <td>kleinwagen</td>\n",
       "      <td>1995</td>\n",
       "      <td>manuell</td>\n",
       "      <td>45</td>\n",
       "      <td>corsa</td>\n",
       "      <td>30000</td>\n",
       "      <td>10</td>\n",
       "      <td>benzin</td>\n",
       "      <td>opel</td>\n",
       "      <td>nein</td>\n",
       "      <td>2016-03-10 00:00:00</td>\n",
       "    </tr>\n",
       "    <tr>\n",
       "      <td>2</td>\n",
       "      <td>558</td>\n",
       "      <td>privat</td>\n",
       "      <td>Angebot</td>\n",
       "      <td>4900</td>\n",
       "      <td>control</td>\n",
       "      <td>cabrio</td>\n",
       "      <td>1973</td>\n",
       "      <td>manuell</td>\n",
       "      <td>44</td>\n",
       "      <td>kaefer</td>\n",
       "      <td>90000</td>\n",
       "      <td>4</td>\n",
       "      <td>benzin</td>\n",
       "      <td>volkswagen</td>\n",
       "      <td>nein</td>\n",
       "      <td>2016-03-27 00:00:00</td>\n",
       "    </tr>\n",
       "    <tr>\n",
       "      <td>3</td>\n",
       "      <td>632</td>\n",
       "      <td>privat</td>\n",
       "      <td>Angebot</td>\n",
       "      <td>1500</td>\n",
       "      <td>test</td>\n",
       "      <td>kleinwagen</td>\n",
       "      <td>1996</td>\n",
       "      <td>manuell</td>\n",
       "      <td>0</td>\n",
       "      <td>golf</td>\n",
       "      <td>80000</td>\n",
       "      <td>2</td>\n",
       "      <td>benzin</td>\n",
       "      <td>volkswagen</td>\n",
       "      <td>nein</td>\n",
       "      <td>2016-03-09 00:00:00</td>\n",
       "    </tr>\n",
       "    <tr>\n",
       "      <td>4</td>\n",
       "      <td>913</td>\n",
       "      <td>privat</td>\n",
       "      <td>Angebot</td>\n",
       "      <td>1250</td>\n",
       "      <td>control</td>\n",
       "      <td>cabrio</td>\n",
       "      <td>1995</td>\n",
       "      <td>manuell</td>\n",
       "      <td>50</td>\n",
       "      <td>swift</td>\n",
       "      <td>50000</td>\n",
       "      <td>6</td>\n",
       "      <td>benzin</td>\n",
       "      <td>suzuki</td>\n",
       "      <td>nein</td>\n",
       "      <td>2016-03-28 00:00:00</td>\n",
       "    </tr>\n",
       "    <tr>\n",
       "      <td>...</td>\n",
       "      <td>...</td>\n",
       "      <td>...</td>\n",
       "      <td>...</td>\n",
       "      <td>...</td>\n",
       "      <td>...</td>\n",
       "      <td>...</td>\n",
       "      <td>...</td>\n",
       "      <td>...</td>\n",
       "      <td>...</td>\n",
       "      <td>...</td>\n",
       "      <td>...</td>\n",
       "      <td>...</td>\n",
       "      <td>...</td>\n",
       "      <td>...</td>\n",
       "      <td>...</td>\n",
       "      <td>...</td>\n",
       "    </tr>\n",
       "    <tr>\n",
       "      <td>1758</td>\n",
       "      <td>371050</td>\n",
       "      <td>privat</td>\n",
       "      <td>Angebot</td>\n",
       "      <td>900</td>\n",
       "      <td>control</td>\n",
       "      <td>kleinwagen</td>\n",
       "      <td>1995</td>\n",
       "      <td>manuell</td>\n",
       "      <td>0</td>\n",
       "      <td>601</td>\n",
       "      <td>5000</td>\n",
       "      <td>0</td>\n",
       "      <td>benzin</td>\n",
       "      <td>trabant</td>\n",
       "      <td>nein</td>\n",
       "      <td>2016-03-20 00:00:00</td>\n",
       "    </tr>\n",
       "    <tr>\n",
       "      <td>1759</td>\n",
       "      <td>371237</td>\n",
       "      <td>privat</td>\n",
       "      <td>Angebot</td>\n",
       "      <td>3500</td>\n",
       "      <td>test</td>\n",
       "      <td>coupe</td>\n",
       "      <td>1980</td>\n",
       "      <td>manuell</td>\n",
       "      <td>55</td>\n",
       "      <td>andere</td>\n",
       "      <td>60000</td>\n",
       "      <td>3</td>\n",
       "      <td>benzin</td>\n",
       "      <td>fiat</td>\n",
       "      <td>nein</td>\n",
       "      <td>2016-03-25 00:00:00</td>\n",
       "    </tr>\n",
       "    <tr>\n",
       "      <td>1760</td>\n",
       "      <td>371512</td>\n",
       "      <td>privat</td>\n",
       "      <td>Angebot</td>\n",
       "      <td>1750</td>\n",
       "      <td>test</td>\n",
       "      <td>kleinwagen</td>\n",
       "      <td>1995</td>\n",
       "      <td>manuell</td>\n",
       "      <td>0</td>\n",
       "      <td>andere</td>\n",
       "      <td>100000</td>\n",
       "      <td>12</td>\n",
       "      <td>benzin</td>\n",
       "      <td>sonstige_autos</td>\n",
       "      <td>nein</td>\n",
       "      <td>2016-03-19 00:00:00</td>\n",
       "    </tr>\n",
       "    <tr>\n",
       "      <td>1761</td>\n",
       "      <td>371753</td>\n",
       "      <td>privat</td>\n",
       "      <td>Angebot</td>\n",
       "      <td>5990</td>\n",
       "      <td>control</td>\n",
       "      <td>bus</td>\n",
       "      <td>1984</td>\n",
       "      <td>automatik</td>\n",
       "      <td>0</td>\n",
       "      <td>andere</td>\n",
       "      <td>70000</td>\n",
       "      <td>4</td>\n",
       "      <td>benzin</td>\n",
       "      <td>chevrolet</td>\n",
       "      <td>nein</td>\n",
       "      <td>2016-03-12 00:00:00</td>\n",
       "    </tr>\n",
       "    <tr>\n",
       "      <td>1762</td>\n",
       "      <td>371767</td>\n",
       "      <td>privat</td>\n",
       "      <td>Angebot</td>\n",
       "      <td>3300</td>\n",
       "      <td>control</td>\n",
       "      <td>coupe</td>\n",
       "      <td>1957</td>\n",
       "      <td>manuell</td>\n",
       "      <td>40</td>\n",
       "      <td>andere</td>\n",
       "      <td>100000</td>\n",
       "      <td>11</td>\n",
       "      <td>benzin</td>\n",
       "      <td>trabant</td>\n",
       "      <td>nein</td>\n",
       "      <td>2016-03-07 00:00:00</td>\n",
       "    </tr>\n",
       "  </tbody>\n",
       "</table>\n",
       "<p>1763 rows × 16 columns</p>\n",
       "</div>"
      ],
      "text/plain": [
       "      Unnamed: 0  seller offerType  price   abtest vehicleType  \\\n",
       "0             28  privat   Angebot   1990     test         bus   \n",
       "1            496  privat   Angebot   1099     test  kleinwagen   \n",
       "2            558  privat   Angebot   4900  control      cabrio   \n",
       "3            632  privat   Angebot   1500     test  kleinwagen   \n",
       "4            913  privat   Angebot   1250  control      cabrio   \n",
       "...          ...     ...       ...    ...      ...         ...   \n",
       "1758      371050  privat   Angebot    900  control  kleinwagen   \n",
       "1759      371237  privat   Angebot   3500     test       coupe   \n",
       "1760      371512  privat   Angebot   1750     test  kleinwagen   \n",
       "1761      371753  privat   Angebot   5990  control         bus   \n",
       "1762      371767  privat   Angebot   3300  control       coupe   \n",
       "\n",
       "      yearOfRegistration    gearbox  powerPS        model  kilometer  \\\n",
       "0                   1981    manuell       50  transporter       5000   \n",
       "1                   1995    manuell       45        corsa      30000   \n",
       "2                   1973    manuell       44       kaefer      90000   \n",
       "3                   1996    manuell        0         golf      80000   \n",
       "4                   1995    manuell       50        swift      50000   \n",
       "...                  ...        ...      ...          ...        ...   \n",
       "1758                1995    manuell        0          601       5000   \n",
       "1759                1980    manuell       55       andere      60000   \n",
       "1760                1995    manuell        0       andere     100000   \n",
       "1761                1984  automatik        0       andere      70000   \n",
       "1762                1957    manuell       40       andere     100000   \n",
       "\n",
       "      monthOfRegistration fuelType           brand notRepairedDamage  \\\n",
       "0                       1   benzin      volkswagen              nein   \n",
       "1                      10   benzin            opel              nein   \n",
       "2                       4   benzin      volkswagen              nein   \n",
       "3                       2   benzin      volkswagen              nein   \n",
       "4                       6   benzin          suzuki              nein   \n",
       "...                   ...      ...             ...               ...   \n",
       "1758                    0   benzin         trabant              nein   \n",
       "1759                    3   benzin            fiat              nein   \n",
       "1760                   12   benzin  sonstige_autos              nein   \n",
       "1761                    4   benzin       chevrolet              nein   \n",
       "1762                   11   benzin         trabant              nein   \n",
       "\n",
       "              dateCreated  \n",
       "0     2016-03-09 00:00:00  \n",
       "1     2016-03-10 00:00:00  \n",
       "2     2016-03-27 00:00:00  \n",
       "3     2016-03-09 00:00:00  \n",
       "4     2016-03-28 00:00:00  \n",
       "...                   ...  \n",
       "1758  2016-03-20 00:00:00  \n",
       "1759  2016-03-25 00:00:00  \n",
       "1760  2016-03-19 00:00:00  \n",
       "1761  2016-03-12 00:00:00  \n",
       "1762  2016-03-07 00:00:00  \n",
       "\n",
       "[1763 rows x 16 columns]"
      ]
     },
     "execution_count": 29,
     "metadata": {},
     "output_type": "execute_result"
    }
   ],
   "source": [
    "n_df = pd.read_excel('LAB3.xlsx')\n",
    "n_df"
   ]
  },
  {
   "cell_type": "code",
   "execution_count": null,
   "metadata": {},
   "outputs": [],
   "source": []
  }
 ],
 "metadata": {
  "kernelspec": {
   "display_name": "Python 3",
   "language": "python",
   "name": "python3"
  },
  "language_info": {
   "codemirror_mode": {
    "name": "ipython",
    "version": 3
   },
   "file_extension": ".py",
   "mimetype": "text/x-python",
   "name": "python",
   "nbconvert_exporter": "python",
   "pygments_lexer": "ipython3",
   "version": "3.7.4"
  }
 },
 "nbformat": 4,
 "nbformat_minor": 2
}
