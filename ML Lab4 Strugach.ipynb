{
 "cells": [
  {
   "cell_type": "markdown",
   "metadata": {},
   "source": [
    "1.\tПолностью разобрать пример «Дома». \n",
    "Найти коэффициенты без переменной AGE.\n",
    "Оставить только статистически значимые коэффициенты (объяснить).\n",
    "Посчитайте коэффициент детерминации (R2).\n",
    "Построить линию регрессии."
   ]
  },
  {
   "cell_type": "code",
   "execution_count": 70,
   "metadata": {},
   "outputs": [],
   "source": [
    "import pandas as pd\n",
    "import numpy as np\n",
    "import matplotlib.pyplot as plt"
   ]
  },
  {
   "cell_type": "code",
   "execution_count": 191,
   "metadata": {},
   "outputs": [
    {
     "data": {
      "text/html": [
       "<div>\n",
       "<style scoped>\n",
       "    .dataframe tbody tr th:only-of-type {\n",
       "        vertical-align: middle;\n",
       "    }\n",
       "\n",
       "    .dataframe tbody tr th {\n",
       "        vertical-align: top;\n",
       "    }\n",
       "\n",
       "    .dataframe thead th {\n",
       "        text-align: right;\n",
       "    }\n",
       "</style>\n",
       "<table border=\"1\" class=\"dataframe\">\n",
       "  <thead>\n",
       "    <tr style=\"text-align: right;\">\n",
       "      <th></th>\n",
       "      <th>PRICE</th>\n",
       "      <th>SQFT</th>\n",
       "      <th>AGE</th>\n",
       "      <th>FEATS</th>\n",
       "      <th>NE</th>\n",
       "      <th>CUST</th>\n",
       "      <th>COR</th>\n",
       "      <th>TAX</th>\n",
       "    </tr>\n",
       "  </thead>\n",
       "  <tbody>\n",
       "    <tr>\n",
       "      <td>0</td>\n",
       "      <td>2050</td>\n",
       "      <td>2650</td>\n",
       "      <td>13.0</td>\n",
       "      <td>7</td>\n",
       "      <td>1</td>\n",
       "      <td>1</td>\n",
       "      <td>0</td>\n",
       "      <td>1639.0</td>\n",
       "    </tr>\n",
       "    <tr>\n",
       "      <td>1</td>\n",
       "      <td>2080</td>\n",
       "      <td>2600</td>\n",
       "      <td>NaN</td>\n",
       "      <td>4</td>\n",
       "      <td>1</td>\n",
       "      <td>1</td>\n",
       "      <td>0</td>\n",
       "      <td>1088.0</td>\n",
       "    </tr>\n",
       "    <tr>\n",
       "      <td>2</td>\n",
       "      <td>2150</td>\n",
       "      <td>2664</td>\n",
       "      <td>6.0</td>\n",
       "      <td>5</td>\n",
       "      <td>1</td>\n",
       "      <td>1</td>\n",
       "      <td>0</td>\n",
       "      <td>1193.0</td>\n",
       "    </tr>\n",
       "    <tr>\n",
       "      <td>3</td>\n",
       "      <td>2150</td>\n",
       "      <td>2921</td>\n",
       "      <td>3.0</td>\n",
       "      <td>6</td>\n",
       "      <td>1</td>\n",
       "      <td>1</td>\n",
       "      <td>0</td>\n",
       "      <td>1635.0</td>\n",
       "    </tr>\n",
       "    <tr>\n",
       "      <td>4</td>\n",
       "      <td>1999</td>\n",
       "      <td>2580</td>\n",
       "      <td>4.0</td>\n",
       "      <td>4</td>\n",
       "      <td>1</td>\n",
       "      <td>1</td>\n",
       "      <td>0</td>\n",
       "      <td>1732.0</td>\n",
       "    </tr>\n",
       "  </tbody>\n",
       "</table>\n",
       "</div>"
      ],
      "text/plain": [
       "   PRICE  SQFT   AGE  FEATS  NE  CUST  COR     TAX\n",
       "0   2050  2650  13.0      7   1     1    0  1639.0\n",
       "1   2080  2600   NaN      4   1     1    0  1088.0\n",
       "2   2150  2664   6.0      5   1     1    0  1193.0\n",
       "3   2150  2921   3.0      6   1     1    0  1635.0\n",
       "4   1999  2580   4.0      4   1     1    0  1732.0"
      ]
     },
     "execution_count": 191,
     "metadata": {},
     "output_type": "execute_result"
    }
   ],
   "source": [
    "df = pd.read_csv('Albuquerque Home Prices.txt', sep='\\t')\n",
    "df = df.replace(-9999, np.nan)\n",
    "df.head()"
   ]
  },
  {
   "cell_type": "code",
   "execution_count": 93,
   "metadata": {},
   "outputs": [],
   "source": [
    "del df['AGE']\n",
    "df['TAX'] = df['TAX'].fillna(df['TAX'].mean())"
   ]
  },
  {
   "cell_type": "code",
   "execution_count": 94,
   "metadata": {},
   "outputs": [
    {
     "data": {
      "text/plain": [
       "LinearRegression(copy_X=True, fit_intercept=True, n_jobs=None, normalize=False)"
      ]
     },
     "execution_count": 94,
     "metadata": {},
     "output_type": "execute_result"
    }
   ],
   "source": [
    "from sklearn.linear_model import LinearRegression\n",
    "X = df.drop('PRICE', axis=1)\n",
    "y = df['PRICE']\n",
    "model = LinearRegression()\n",
    "model.fit(X, y)"
   ]
  },
  {
   "cell_type": "markdown",
   "metadata": {},
   "source": [
    "## Найдём $R^2$"
   ]
  },
  {
   "cell_type": "code",
   "execution_count": 95,
   "metadata": {
    "scrolled": true
   },
   "outputs": [
    {
     "name": "stdout",
     "output_type": "stream",
     "text": [
      "R^2 = 0.8022436103807493\n"
     ]
    }
   ],
   "source": [
    "print('R^2 =', model.score(X, y))"
   ]
  },
  {
   "cell_type": "markdown",
   "metadata": {},
   "source": [
    "## Коэффициенты"
   ]
  },
  {
   "cell_type": "code",
   "execution_count": 96,
   "metadata": {},
   "outputs": [
    {
     "data": {
      "text/html": [
       "<div>\n",
       "<style scoped>\n",
       "    .dataframe tbody tr th:only-of-type {\n",
       "        vertical-align: middle;\n",
       "    }\n",
       "\n",
       "    .dataframe tbody tr th {\n",
       "        vertical-align: top;\n",
       "    }\n",
       "\n",
       "    .dataframe thead th {\n",
       "        text-align: right;\n",
       "    }\n",
       "</style>\n",
       "<table border=\"1\" class=\"dataframe\">\n",
       "  <thead>\n",
       "    <tr style=\"text-align: right;\">\n",
       "      <th></th>\n",
       "      <th>predictor</th>\n",
       "      <th>coef</th>\n",
       "    </tr>\n",
       "  </thead>\n",
       "  <tbody>\n",
       "    <tr>\n",
       "      <td>0</td>\n",
       "      <td>intercept</td>\n",
       "      <td>83.175919</td>\n",
       "    </tr>\n",
       "    <tr>\n",
       "      <td>1</td>\n",
       "      <td>SQFT</td>\n",
       "      <td>0.291978</td>\n",
       "    </tr>\n",
       "    <tr>\n",
       "      <td>2</td>\n",
       "      <td>FEATS</td>\n",
       "      <td>12.176743</td>\n",
       "    </tr>\n",
       "    <tr>\n",
       "      <td>3</td>\n",
       "      <td>NE</td>\n",
       "      <td>8.011604</td>\n",
       "    </tr>\n",
       "    <tr>\n",
       "      <td>4</td>\n",
       "      <td>CUST</td>\n",
       "      <td>133.014342</td>\n",
       "    </tr>\n",
       "    <tr>\n",
       "      <td>5</td>\n",
       "      <td>COR</td>\n",
       "      <td>-65.800841</td>\n",
       "    </tr>\n",
       "    <tr>\n",
       "      <td>6</td>\n",
       "      <td>TAX</td>\n",
       "      <td>0.541942</td>\n",
       "    </tr>\n",
       "  </tbody>\n",
       "</table>\n",
       "</div>"
      ],
      "text/plain": [
       "   predictor        coef\n",
       "0  intercept   83.175919\n",
       "1       SQFT    0.291978\n",
       "2      FEATS   12.176743\n",
       "3         NE    8.011604\n",
       "4       CUST  133.014342\n",
       "5        COR  -65.800841\n",
       "6        TAX    0.541942"
      ]
     },
     "execution_count": 96,
     "metadata": {},
     "output_type": "execute_result"
    }
   ],
   "source": [
    "coef = pd.DataFrame(zip(['intercept'] + X.columns.tolist(), [model.intercept_] + model.coef_.tolist()),\n",
    "                    columns=['predictor', 'coef'])\n",
    "coef"
   ]
  },
  {
   "cell_type": "code",
   "execution_count": 97,
   "metadata": {},
   "outputs": [
    {
     "data": {
      "text/html": [
       "<div>\n",
       "<style scoped>\n",
       "    .dataframe tbody tr th:only-of-type {\n",
       "        vertical-align: middle;\n",
       "    }\n",
       "\n",
       "    .dataframe tbody tr th {\n",
       "        vertical-align: top;\n",
       "    }\n",
       "\n",
       "    .dataframe thead th {\n",
       "        text-align: right;\n",
       "    }\n",
       "</style>\n",
       "<table border=\"1\" class=\"dataframe\">\n",
       "  <thead>\n",
       "    <tr style=\"text-align: right;\">\n",
       "      <th></th>\n",
       "      <th>predictor</th>\n",
       "      <th>coef</th>\n",
       "      <th>pvalue</th>\n",
       "    </tr>\n",
       "  </thead>\n",
       "  <tbody>\n",
       "    <tr>\n",
       "      <td>0</td>\n",
       "      <td>intercept</td>\n",
       "      <td>83.175919</td>\n",
       "      <td>1.895059e-01</td>\n",
       "    </tr>\n",
       "    <tr>\n",
       "      <td>1</td>\n",
       "      <td>SQFT</td>\n",
       "      <td>0.291978</td>\n",
       "      <td>2.580075e-06</td>\n",
       "    </tr>\n",
       "    <tr>\n",
       "      <td>2</td>\n",
       "      <td>FEATS</td>\n",
       "      <td>12.176743</td>\n",
       "      <td>3.419172e-01</td>\n",
       "    </tr>\n",
       "    <tr>\n",
       "      <td>3</td>\n",
       "      <td>NE</td>\n",
       "      <td>8.011604</td>\n",
       "      <td>8.190403e-01</td>\n",
       "    </tr>\n",
       "    <tr>\n",
       "      <td>4</td>\n",
       "      <td>CUST</td>\n",
       "      <td>133.014342</td>\n",
       "      <td>3.454095e-03</td>\n",
       "    </tr>\n",
       "    <tr>\n",
       "      <td>5</td>\n",
       "      <td>COR</td>\n",
       "      <td>-65.800841</td>\n",
       "      <td>1.168611e-01</td>\n",
       "    </tr>\n",
       "    <tr>\n",
       "      <td>6</td>\n",
       "      <td>TAX</td>\n",
       "      <td>0.541942</td>\n",
       "      <td>4.972770e-07</td>\n",
       "    </tr>\n",
       "  </tbody>\n",
       "</table>\n",
       "</div>"
      ],
      "text/plain": [
       "   predictor        coef        pvalue\n",
       "0  intercept   83.175919  1.895059e-01\n",
       "1       SQFT    0.291978  2.580075e-06\n",
       "2      FEATS   12.176743  3.419172e-01\n",
       "3         NE    8.011604  8.190403e-01\n",
       "4       CUST  133.014342  3.454095e-03\n",
       "5        COR  -65.800841  1.168611e-01\n",
       "6        TAX    0.541942  4.972770e-07"
      ]
     },
     "execution_count": 97,
     "metadata": {},
     "output_type": "execute_result"
    }
   ],
   "source": [
    "from scipy import stats\n",
    "\n",
    "def regression_coef(model, X, y):\n",
    "    coef = pd.DataFrame(zip(['intercept'] + X.columns.tolist(), [model.intercept_] + model.coef_.tolist()),\n",
    "                    columns=['predictor', 'coef'])\n",
    "    X1 = np.append(np.ones((len(X),1)), X, axis=1)\n",
    "    b = np.append(model.intercept_, model.coef_)\n",
    "    MSE = np.sum((model.predict(X) - y) ** 2, axis=0) / float(X.shape[0] - X.shape[1])\n",
    "    var_b = MSE * (np.linalg.inv(np.dot(X1.T, X1)).diagonal())\n",
    "    sd_b = np.sqrt(var_b)\n",
    "    t = b / sd_b\n",
    "    coef['pvalue'] = [2 * (1 - stats.t.cdf(np.abs(i), (len(X1) - 1))) for i in t]\n",
    "    return coef\n",
    "regression_coef(model, X, y)"
   ]
  },
  {
   "cell_type": "markdown",
   "metadata": {},
   "source": [
    "У нас 3 значимых поля: SQFT, CUST и TAX, т. к. p-value < 0.05"
   ]
  },
  {
   "cell_type": "code",
   "execution_count": 98,
   "metadata": {},
   "outputs": [
    {
     "data": {
      "text/html": [
       "<div>\n",
       "<style scoped>\n",
       "    .dataframe tbody tr th:only-of-type {\n",
       "        vertical-align: middle;\n",
       "    }\n",
       "\n",
       "    .dataframe tbody tr th {\n",
       "        vertical-align: top;\n",
       "    }\n",
       "\n",
       "    .dataframe thead th {\n",
       "        text-align: right;\n",
       "    }\n",
       "</style>\n",
       "<table border=\"1\" class=\"dataframe\">\n",
       "  <thead>\n",
       "    <tr style=\"text-align: right;\">\n",
       "      <th></th>\n",
       "      <th>PRICE</th>\n",
       "      <th>SQFT</th>\n",
       "      <th>FEATS</th>\n",
       "      <th>NE</th>\n",
       "      <th>CUST</th>\n",
       "      <th>COR</th>\n",
       "      <th>TAX</th>\n",
       "    </tr>\n",
       "  </thead>\n",
       "  <tbody>\n",
       "    <tr>\n",
       "      <td>PRICE</td>\n",
       "      <td>1.000000</td>\n",
       "      <td>0.844795</td>\n",
       "      <td>0.420272</td>\n",
       "      <td>0.167840</td>\n",
       "      <td>0.555292</td>\n",
       "      <td>-0.079293</td>\n",
       "      <td>0.844889</td>\n",
       "    </tr>\n",
       "    <tr>\n",
       "      <td>SQFT</td>\n",
       "      <td>0.844795</td>\n",
       "      <td>1.000000</td>\n",
       "      <td>0.394925</td>\n",
       "      <td>0.145030</td>\n",
       "      <td>0.520102</td>\n",
       "      <td>0.040528</td>\n",
       "      <td>0.832674</td>\n",
       "    </tr>\n",
       "    <tr>\n",
       "      <td>FEATS</td>\n",
       "      <td>0.420272</td>\n",
       "      <td>0.394925</td>\n",
       "      <td>1.000000</td>\n",
       "      <td>0.190016</td>\n",
       "      <td>0.241964</td>\n",
       "      <td>-0.041547</td>\n",
       "      <td>0.419473</td>\n",
       "    </tr>\n",
       "    <tr>\n",
       "      <td>NE</td>\n",
       "      <td>0.167840</td>\n",
       "      <td>0.145030</td>\n",
       "      <td>0.190016</td>\n",
       "      <td>1.000000</td>\n",
       "      <td>0.043033</td>\n",
       "      <td>-0.077336</td>\n",
       "      <td>0.189230</td>\n",
       "    </tr>\n",
       "    <tr>\n",
       "      <td>CUST</td>\n",
       "      <td>0.555292</td>\n",
       "      <td>0.520102</td>\n",
       "      <td>0.241964</td>\n",
       "      <td>0.043033</td>\n",
       "      <td>1.000000</td>\n",
       "      <td>-0.003994</td>\n",
       "      <td>0.444906</td>\n",
       "    </tr>\n",
       "    <tr>\n",
       "      <td>COR</td>\n",
       "      <td>-0.079293</td>\n",
       "      <td>0.040528</td>\n",
       "      <td>-0.041547</td>\n",
       "      <td>-0.077336</td>\n",
       "      <td>-0.003994</td>\n",
       "      <td>1.000000</td>\n",
       "      <td>-0.058329</td>\n",
       "    </tr>\n",
       "    <tr>\n",
       "      <td>TAX</td>\n",
       "      <td>0.844889</td>\n",
       "      <td>0.832674</td>\n",
       "      <td>0.419473</td>\n",
       "      <td>0.189230</td>\n",
       "      <td>0.444906</td>\n",
       "      <td>-0.058329</td>\n",
       "      <td>1.000000</td>\n",
       "    </tr>\n",
       "  </tbody>\n",
       "</table>\n",
       "</div>"
      ],
      "text/plain": [
       "          PRICE      SQFT     FEATS        NE      CUST       COR       TAX\n",
       "PRICE  1.000000  0.844795  0.420272  0.167840  0.555292 -0.079293  0.844889\n",
       "SQFT   0.844795  1.000000  0.394925  0.145030  0.520102  0.040528  0.832674\n",
       "FEATS  0.420272  0.394925  1.000000  0.190016  0.241964 -0.041547  0.419473\n",
       "NE     0.167840  0.145030  0.190016  1.000000  0.043033 -0.077336  0.189230\n",
       "CUST   0.555292  0.520102  0.241964  0.043033  1.000000 -0.003994  0.444906\n",
       "COR   -0.079293  0.040528 -0.041547 -0.077336 -0.003994  1.000000 -0.058329\n",
       "TAX    0.844889  0.832674  0.419473  0.189230  0.444906 -0.058329  1.000000"
      ]
     },
     "execution_count": 98,
     "metadata": {},
     "output_type": "execute_result"
    }
   ],
   "source": [
    "df.corr()"
   ]
  },
  {
   "cell_type": "markdown",
   "metadata": {},
   "source": [
    "TAX больше всего зависят от площади дома, чем какой-либо другой из этих предикторов от других, поэтому попробуем убрать это поле"
   ]
  },
  {
   "cell_type": "code",
   "execution_count": 99,
   "metadata": {},
   "outputs": [
    {
     "name": "stdout",
     "output_type": "stream",
     "text": [
      "R^2 =  0.7320966420178658\n"
     ]
    },
    {
     "data": {
      "text/html": [
       "<div>\n",
       "<style scoped>\n",
       "    .dataframe tbody tr th:only-of-type {\n",
       "        vertical-align: middle;\n",
       "    }\n",
       "\n",
       "    .dataframe tbody tr th {\n",
       "        vertical-align: top;\n",
       "    }\n",
       "\n",
       "    .dataframe thead th {\n",
       "        text-align: right;\n",
       "    }\n",
       "</style>\n",
       "<table border=\"1\" class=\"dataframe\">\n",
       "  <thead>\n",
       "    <tr style=\"text-align: right;\">\n",
       "      <th></th>\n",
       "      <th>predictor</th>\n",
       "      <th>coef</th>\n",
       "      <th>pvalue</th>\n",
       "    </tr>\n",
       "  </thead>\n",
       "  <tbody>\n",
       "    <tr>\n",
       "      <td>0</td>\n",
       "      <td>intercept</td>\n",
       "      <td>114.134824</td>\n",
       "      <td>0.082734</td>\n",
       "    </tr>\n",
       "    <tr>\n",
       "      <td>1</td>\n",
       "      <td>SQFT</td>\n",
       "      <td>0.553635</td>\n",
       "      <td>0.000000</td>\n",
       "    </tr>\n",
       "    <tr>\n",
       "      <td>2</td>\n",
       "      <td>CUST</td>\n",
       "      <td>142.859931</td>\n",
       "      <td>0.005787</td>\n",
       "    </tr>\n",
       "  </tbody>\n",
       "</table>\n",
       "</div>"
      ],
      "text/plain": [
       "   predictor        coef    pvalue\n",
       "0  intercept  114.134824  0.082734\n",
       "1       SQFT    0.553635  0.000000\n",
       "2       CUST  142.859931  0.005787"
      ]
     },
     "execution_count": 99,
     "metadata": {},
     "output_type": "execute_result"
    }
   ],
   "source": [
    "X = df[['SQFT', 'CUST']]\n",
    "model.fit(X, y)\n",
    "print('R^2 = ', model.score(X, y))\n",
    "coef = regression_coef(model, X, y)\n",
    "coef"
   ]
  },
  {
   "cell_type": "markdown",
   "metadata": {},
   "source": [
    "Качество модели снизилось, но она строится на значимых предикатах. "
   ]
  },
  {
   "cell_type": "code",
   "execution_count": 116,
   "metadata": {},
   "outputs": [
    {
     "data": {
      "image/png": "[encoded data removed]",
      "text/plain": [
       "<Figure size 432x288 with 1 Axes>"
      ]
     },
     "metadata": {
      "needs_background": "light"
     },
     "output_type": "display_data"
    }
   ],
   "source": [
    "df.plot.scatter(x = 'SQFT', y = 'PRICE')\n",
    "y1 = []\n",
    "for i in df['SQFT']:\n",
    "    y1.append(coef['coef'][0] + i*coef['coef'][1])\n",
    "plt.plot(df['SQFT'], y1, 'r')\n",
    "plt.show()"
   ]
  },
  {
   "cell_type": "markdown",
   "metadata": {},
   "source": [
    "# 2.\tПостараться максимально близко восстановить пустые значения (NaN) для переменной AGE. Для этого постройте модель для известных значений PRICE и AGE, найдите коэффициенты и на основе полученной модели заполните пустые значения."
   ]
  },
  {
   "cell_type": "code",
   "execution_count": 192,
   "metadata": {},
   "outputs": [],
   "source": [
    "df = pd.read_csv('Albuquerque Home Prices.txt', sep='\\t')\n",
    "df = df.replace(-9999, np.nan)\n",
    "df['TAX'] = df['TAX'].fillna(df['TAX'].mean())"
   ]
  },
  {
   "cell_type": "code",
   "execution_count": 193,
   "metadata": {},
   "outputs": [
    {
     "data": {
      "text/plain": [
       "LinearRegression(copy_X=True, fit_intercept=True, n_jobs=None, normalize=False)"
      ]
     },
     "execution_count": 193,
     "metadata": {},
     "output_type": "execute_result"
    }
   ],
   "source": [
    "df_age = df.dropna(axis = 0)\n",
    "X = df_age.drop('AGE', axis=1)\n",
    "y = df_age['AGE']\n",
    "model = LinearRegression()\n",
    "model.fit(X, y)"
   ]
  },
  {
   "cell_type": "code",
   "execution_count": 194,
   "metadata": {},
   "outputs": [
    {
     "name": "stdout",
     "output_type": "stream",
     "text": [
      "R^2 =  0.40357365338878237\n"
     ]
    },
    {
     "data": {
      "text/html": [
       "<div>\n",
       "<style scoped>\n",
       "    .dataframe tbody tr th:only-of-type {\n",
       "        vertical-align: middle;\n",
       "    }\n",
       "\n",
       "    .dataframe tbody tr th {\n",
       "        vertical-align: top;\n",
       "    }\n",
       "\n",
       "    .dataframe thead th {\n",
       "        text-align: right;\n",
       "    }\n",
       "</style>\n",
       "<table border=\"1\" class=\"dataframe\">\n",
       "  <thead>\n",
       "    <tr style=\"text-align: right;\">\n",
       "      <th></th>\n",
       "      <th>predictor</th>\n",
       "      <th>coef</th>\n",
       "      <th>pvalue</th>\n",
       "    </tr>\n",
       "  </thead>\n",
       "  <tbody>\n",
       "    <tr>\n",
       "      <td>0</td>\n",
       "      <td>intercept</td>\n",
       "      <td>21.033788</td>\n",
       "      <td>0.000365</td>\n",
       "    </tr>\n",
       "    <tr>\n",
       "      <td>1</td>\n",
       "      <td>PRICE</td>\n",
       "      <td>-0.001287</td>\n",
       "      <td>0.873652</td>\n",
       "    </tr>\n",
       "    <tr>\n",
       "      <td>2</td>\n",
       "      <td>SQFT</td>\n",
       "      <td>0.022392</td>\n",
       "      <td>0.000609</td>\n",
       "    </tr>\n",
       "    <tr>\n",
       "      <td>3</td>\n",
       "      <td>FEATS</td>\n",
       "      <td>-2.821699</td>\n",
       "      <td>0.012575</td>\n",
       "    </tr>\n",
       "    <tr>\n",
       "      <td>4</td>\n",
       "      <td>NE</td>\n",
       "      <td>8.228914</td>\n",
       "      <td>0.004342</td>\n",
       "    </tr>\n",
       "    <tr>\n",
       "      <td>5</td>\n",
       "      <td>CUST</td>\n",
       "      <td>2.186168</td>\n",
       "      <td>0.520137</td>\n",
       "    </tr>\n",
       "    <tr>\n",
       "      <td>6</td>\n",
       "      <td>COR</td>\n",
       "      <td>-0.443693</td>\n",
       "      <td>0.886666</td>\n",
       "    </tr>\n",
       "    <tr>\n",
       "      <td>7</td>\n",
       "      <td>TAX</td>\n",
       "      <td>-0.043687</td>\n",
       "      <td>0.000014</td>\n",
       "    </tr>\n",
       "  </tbody>\n",
       "</table>\n",
       "</div>"
      ],
      "text/plain": [
       "   predictor       coef    pvalue\n",
       "0  intercept  21.033788  0.000365\n",
       "1      PRICE  -0.001287  0.873652\n",
       "2       SQFT   0.022392  0.000609\n",
       "3      FEATS  -2.821699  0.012575\n",
       "4         NE   8.228914  0.004342\n",
       "5       CUST   2.186168  0.520137\n",
       "6        COR  -0.443693  0.886666\n",
       "7        TAX  -0.043687  0.000014"
      ]
     },
     "execution_count": 194,
     "metadata": {},
     "output_type": "execute_result"
    }
   ],
   "source": [
    "print('R^2 = ', model.score(X, y))\n",
    "regression_coef(model, X, y)"
   ]
  },
  {
   "cell_type": "code",
   "execution_count": 195,
   "metadata": {},
   "outputs": [],
   "source": [
    "age = model.predict(df.drop('AGE', axis=1))"
   ]
  },
  {
   "cell_type": "code",
   "execution_count": 196,
   "metadata": {},
   "outputs": [
    {
     "name": "stderr",
     "output_type": "stream",
     "text": [
      "/Users/grigory/opt/anaconda3/lib/python3.7/site-packages/ipykernel_launcher.py:4: SettingWithCopyWarning: \n",
      "A value is trying to be set on a copy of a slice from a DataFrame\n",
      "\n",
      "See the caveats in the documentation: http://pandas.pydata.org/pandas-docs/stable/user_guide/indexing.html#returning-a-view-versus-a-copy\n",
      "  after removing the cwd from sys.path.\n"
     ]
    },
    {
     "data": {
      "text/html": [
       "<div>\n",
       "<style scoped>\n",
       "    .dataframe tbody tr th:only-of-type {\n",
       "        vertical-align: middle;\n",
       "    }\n",
       "\n",
       "    .dataframe tbody tr th {\n",
       "        vertical-align: top;\n",
       "    }\n",
       "\n",
       "    .dataframe thead th {\n",
       "        text-align: right;\n",
       "    }\n",
       "</style>\n",
       "<table border=\"1\" class=\"dataframe\">\n",
       "  <thead>\n",
       "    <tr style=\"text-align: right;\">\n",
       "      <th></th>\n",
       "      <th>PRICE</th>\n",
       "      <th>SQFT</th>\n",
       "      <th>AGE</th>\n",
       "      <th>FEATS</th>\n",
       "      <th>NE</th>\n",
       "      <th>CUST</th>\n",
       "      <th>COR</th>\n",
       "      <th>TAX</th>\n",
       "    </tr>\n",
       "  </thead>\n",
       "  <tbody>\n",
       "    <tr>\n",
       "      <td>0</td>\n",
       "      <td>2050</td>\n",
       "      <td>2650</td>\n",
       "      <td>13.000000</td>\n",
       "      <td>7</td>\n",
       "      <td>1</td>\n",
       "      <td>1</td>\n",
       "      <td>0</td>\n",
       "      <td>1639.0</td>\n",
       "    </tr>\n",
       "    <tr>\n",
       "      <td>1</td>\n",
       "      <td>2080</td>\n",
       "      <td>2600</td>\n",
       "      <td>28.175087</td>\n",
       "      <td>4</td>\n",
       "      <td>1</td>\n",
       "      <td>1</td>\n",
       "      <td>0</td>\n",
       "      <td>1088.0</td>\n",
       "    </tr>\n",
       "    <tr>\n",
       "      <td>2</td>\n",
       "      <td>2150</td>\n",
       "      <td>2664</td>\n",
       "      <td>6.000000</td>\n",
       "      <td>5</td>\n",
       "      <td>1</td>\n",
       "      <td>1</td>\n",
       "      <td>0</td>\n",
       "      <td>1193.0</td>\n",
       "    </tr>\n",
       "    <tr>\n",
       "      <td>3</td>\n",
       "      <td>2150</td>\n",
       "      <td>2921</td>\n",
       "      <td>3.000000</td>\n",
       "      <td>6</td>\n",
       "      <td>1</td>\n",
       "      <td>1</td>\n",
       "      <td>0</td>\n",
       "      <td>1635.0</td>\n",
       "    </tr>\n",
       "    <tr>\n",
       "      <td>4</td>\n",
       "      <td>1999</td>\n",
       "      <td>2580</td>\n",
       "      <td>4.000000</td>\n",
       "      <td>4</td>\n",
       "      <td>1</td>\n",
       "      <td>1</td>\n",
       "      <td>0</td>\n",
       "      <td>1732.0</td>\n",
       "    </tr>\n",
       "    <tr>\n",
       "      <td>...</td>\n",
       "      <td>...</td>\n",
       "      <td>...</td>\n",
       "      <td>...</td>\n",
       "      <td>...</td>\n",
       "      <td>...</td>\n",
       "      <td>...</td>\n",
       "      <td>...</td>\n",
       "      <td>...</td>\n",
       "    </tr>\n",
       "    <tr>\n",
       "      <td>112</td>\n",
       "      <td>872</td>\n",
       "      <td>1229</td>\n",
       "      <td>6.000000</td>\n",
       "      <td>3</td>\n",
       "      <td>0</td>\n",
       "      <td>0</td>\n",
       "      <td>0</td>\n",
       "      <td>721.0</td>\n",
       "    </tr>\n",
       "    <tr>\n",
       "      <td>113</td>\n",
       "      <td>870</td>\n",
       "      <td>1273</td>\n",
       "      <td>4.000000</td>\n",
       "      <td>4</td>\n",
       "      <td>0</td>\n",
       "      <td>0</td>\n",
       "      <td>0</td>\n",
       "      <td>638.0</td>\n",
       "    </tr>\n",
       "    <tr>\n",
       "      <td>114</td>\n",
       "      <td>869</td>\n",
       "      <td>1165</td>\n",
       "      <td>7.000000</td>\n",
       "      <td>4</td>\n",
       "      <td>0</td>\n",
       "      <td>0</td>\n",
       "      <td>0</td>\n",
       "      <td>694.0</td>\n",
       "    </tr>\n",
       "    <tr>\n",
       "      <td>115</td>\n",
       "      <td>766</td>\n",
       "      <td>1200</td>\n",
       "      <td>7.000000</td>\n",
       "      <td>4</td>\n",
       "      <td>0</td>\n",
       "      <td>0</td>\n",
       "      <td>1</td>\n",
       "      <td>634.0</td>\n",
       "    </tr>\n",
       "    <tr>\n",
       "      <td>116</td>\n",
       "      <td>739</td>\n",
       "      <td>970</td>\n",
       "      <td>4.000000</td>\n",
       "      <td>4</td>\n",
       "      <td>0</td>\n",
       "      <td>0</td>\n",
       "      <td>1</td>\n",
       "      <td>541.0</td>\n",
       "    </tr>\n",
       "  </tbody>\n",
       "</table>\n",
       "<p>117 rows × 8 columns</p>\n",
       "</div>"
      ],
      "text/plain": [
       "     PRICE  SQFT        AGE  FEATS  NE  CUST  COR     TAX\n",
       "0     2050  2650  13.000000      7   1     1    0  1639.0\n",
       "1     2080  2600  28.175087      4   1     1    0  1088.0\n",
       "2     2150  2664   6.000000      5   1     1    0  1193.0\n",
       "3     2150  2921   3.000000      6   1     1    0  1635.0\n",
       "4     1999  2580   4.000000      4   1     1    0  1732.0\n",
       "..     ...   ...        ...    ...  ..   ...  ...     ...\n",
       "112    872  1229   6.000000      3   0     0    0   721.0\n",
       "113    870  1273   4.000000      4   0     0    0   638.0\n",
       "114    869  1165   7.000000      4   0     0    0   694.0\n",
       "115    766  1200   7.000000      4   0     0    1   634.0\n",
       "116    739   970   4.000000      4   0     0    1   541.0\n",
       "\n",
       "[117 rows x 8 columns]"
      ]
     },
     "execution_count": 196,
     "metadata": {},
     "output_type": "execute_result"
    }
   ],
   "source": [
    "import math\n",
    "for i in range(len(df)):\n",
    "    if math.isnan(df['AGE'][i]):\n",
    "        df['AGE'][i] = age[i]\n",
    "df"
   ]
  },
  {
   "cell_type": "markdown",
   "metadata": {},
   "source": [
    "# Повторите все из (1) с учетом восстановленной переменной AGE"
   ]
  },
  {
   "cell_type": "code",
   "execution_count": 197,
   "metadata": {},
   "outputs": [
    {
     "data": {
      "text/plain": [
       "LinearRegression(copy_X=True, fit_intercept=True, n_jobs=None, normalize=False)"
      ]
     },
     "execution_count": 197,
     "metadata": {},
     "output_type": "execute_result"
    }
   ],
   "source": [
    "X = df.drop('PRICE', axis=1)\n",
    "y = df['PRICE']\n",
    "model = LinearRegression()\n",
    "model.fit(X, y)"
   ]
  },
  {
   "cell_type": "code",
   "execution_count": 198,
   "metadata": {},
   "outputs": [
    {
     "name": "stdout",
     "output_type": "stream",
     "text": [
      "R^2 =  0.8024129112994897\n"
     ]
    },
    {
     "data": {
      "text/html": [
       "<div>\n",
       "<style scoped>\n",
       "    .dataframe tbody tr th:only-of-type {\n",
       "        vertical-align: middle;\n",
       "    }\n",
       "\n",
       "    .dataframe tbody tr th {\n",
       "        vertical-align: top;\n",
       "    }\n",
       "\n",
       "    .dataframe thead th {\n",
       "        text-align: right;\n",
       "    }\n",
       "</style>\n",
       "<table border=\"1\" class=\"dataframe\">\n",
       "  <thead>\n",
       "    <tr style=\"text-align: right;\">\n",
       "      <th></th>\n",
       "      <th>predictor</th>\n",
       "      <th>coef</th>\n",
       "      <th>pvalue</th>\n",
       "    </tr>\n",
       "  </thead>\n",
       "  <tbody>\n",
       "    <tr>\n",
       "      <td>0</td>\n",
       "      <td>intercept</td>\n",
       "      <td>97.100927</td>\n",
       "      <td>0.214850</td>\n",
       "    </tr>\n",
       "    <tr>\n",
       "      <td>1</td>\n",
       "      <td>SQFT</td>\n",
       "      <td>0.306628</td>\n",
       "      <td>0.000100</td>\n",
       "    </tr>\n",
       "    <tr>\n",
       "      <td>2</td>\n",
       "      <td>AGE</td>\n",
       "      <td>-0.665416</td>\n",
       "      <td>0.759389</td>\n",
       "    </tr>\n",
       "    <tr>\n",
       "      <td>3</td>\n",
       "      <td>FEATS</td>\n",
       "      <td>10.288714</td>\n",
       "      <td>0.470550</td>\n",
       "    </tr>\n",
       "    <tr>\n",
       "      <td>4</td>\n",
       "      <td>NE</td>\n",
       "      <td>13.480395</td>\n",
       "      <td>0.732512</td>\n",
       "    </tr>\n",
       "    <tr>\n",
       "      <td>5</td>\n",
       "      <td>CUST</td>\n",
       "      <td>134.355178</td>\n",
       "      <td>0.003417</td>\n",
       "    </tr>\n",
       "    <tr>\n",
       "      <td>6</td>\n",
       "      <td>COR</td>\n",
       "      <td>-66.039749</td>\n",
       "      <td>0.117095</td>\n",
       "    </tr>\n",
       "    <tr>\n",
       "      <td>7</td>\n",
       "      <td>TAX</td>\n",
       "      <td>0.512409</td>\n",
       "      <td>0.000392</td>\n",
       "    </tr>\n",
       "  </tbody>\n",
       "</table>\n",
       "</div>"
      ],
      "text/plain": [
       "   predictor        coef    pvalue\n",
       "0  intercept   97.100927  0.214850\n",
       "1       SQFT    0.306628  0.000100\n",
       "2        AGE   -0.665416  0.759389\n",
       "3      FEATS   10.288714  0.470550\n",
       "4         NE   13.480395  0.732512\n",
       "5       CUST  134.355178  0.003417\n",
       "6        COR  -66.039749  0.117095\n",
       "7        TAX    0.512409  0.000392"
      ]
     },
     "execution_count": 198,
     "metadata": {},
     "output_type": "execute_result"
    }
   ],
   "source": [
    "print('R^2 = ', model.score(X, y))\n",
    "regression_coef(model, X, y)"
   ]
  },
  {
   "cell_type": "markdown",
   "metadata": {},
   "source": [
    "Точность получилась немного лучше, но в целом ситуация не изменилась"
   ]
  },
  {
   "cell_type": "code",
   "execution_count": 199,
   "metadata": {},
   "outputs": [
    {
     "data": {
      "text/html": [
       "<div>\n",
       "<style scoped>\n",
       "    .dataframe tbody tr th:only-of-type {\n",
       "        vertical-align: middle;\n",
       "    }\n",
       "\n",
       "    .dataframe tbody tr th {\n",
       "        vertical-align: top;\n",
       "    }\n",
       "\n",
       "    .dataframe thead th {\n",
       "        text-align: right;\n",
       "    }\n",
       "</style>\n",
       "<table border=\"1\" class=\"dataframe\">\n",
       "  <thead>\n",
       "    <tr style=\"text-align: right;\">\n",
       "      <th></th>\n",
       "      <th>PRICE</th>\n",
       "      <th>SQFT</th>\n",
       "      <th>AGE</th>\n",
       "      <th>FEATS</th>\n",
       "      <th>NE</th>\n",
       "      <th>CUST</th>\n",
       "      <th>COR</th>\n",
       "      <th>TAX</th>\n",
       "    </tr>\n",
       "  </thead>\n",
       "  <tbody>\n",
       "    <tr>\n",
       "      <td>PRICE</td>\n",
       "      <td>1.000000</td>\n",
       "      <td>0.844795</td>\n",
       "      <td>-0.167766</td>\n",
       "      <td>0.420272</td>\n",
       "      <td>0.167840</td>\n",
       "      <td>0.555292</td>\n",
       "      <td>-0.079293</td>\n",
       "      <td>0.844889</td>\n",
       "    </tr>\n",
       "    <tr>\n",
       "      <td>SQFT</td>\n",
       "      <td>0.844795</td>\n",
       "      <td>1.000000</td>\n",
       "      <td>0.006073</td>\n",
       "      <td>0.394925</td>\n",
       "      <td>0.145030</td>\n",
       "      <td>0.520102</td>\n",
       "      <td>0.040528</td>\n",
       "      <td>0.832674</td>\n",
       "    </tr>\n",
       "    <tr>\n",
       "      <td>AGE</td>\n",
       "      <td>-0.167766</td>\n",
       "      <td>0.006073</td>\n",
       "      <td>1.000000</td>\n",
       "      <td>-0.342862</td>\n",
       "      <td>0.205578</td>\n",
       "      <td>0.020354</td>\n",
       "      <td>0.082139</td>\n",
       "      <td>-0.347671</td>\n",
       "    </tr>\n",
       "    <tr>\n",
       "      <td>FEATS</td>\n",
       "      <td>0.420272</td>\n",
       "      <td>0.394925</td>\n",
       "      <td>-0.342862</td>\n",
       "      <td>1.000000</td>\n",
       "      <td>0.190016</td>\n",
       "      <td>0.241964</td>\n",
       "      <td>-0.041547</td>\n",
       "      <td>0.419473</td>\n",
       "    </tr>\n",
       "    <tr>\n",
       "      <td>NE</td>\n",
       "      <td>0.167840</td>\n",
       "      <td>0.145030</td>\n",
       "      <td>0.205578</td>\n",
       "      <td>0.190016</td>\n",
       "      <td>1.000000</td>\n",
       "      <td>0.043033</td>\n",
       "      <td>-0.077336</td>\n",
       "      <td>0.189230</td>\n",
       "    </tr>\n",
       "    <tr>\n",
       "      <td>CUST</td>\n",
       "      <td>0.555292</td>\n",
       "      <td>0.520102</td>\n",
       "      <td>0.020354</td>\n",
       "      <td>0.241964</td>\n",
       "      <td>0.043033</td>\n",
       "      <td>1.000000</td>\n",
       "      <td>-0.003994</td>\n",
       "      <td>0.444906</td>\n",
       "    </tr>\n",
       "    <tr>\n",
       "      <td>COR</td>\n",
       "      <td>-0.079293</td>\n",
       "      <td>0.040528</td>\n",
       "      <td>0.082139</td>\n",
       "      <td>-0.041547</td>\n",
       "      <td>-0.077336</td>\n",
       "      <td>-0.003994</td>\n",
       "      <td>1.000000</td>\n",
       "      <td>-0.058329</td>\n",
       "    </tr>\n",
       "    <tr>\n",
       "      <td>TAX</td>\n",
       "      <td>0.844889</td>\n",
       "      <td>0.832674</td>\n",
       "      <td>-0.347671</td>\n",
       "      <td>0.419473</td>\n",
       "      <td>0.189230</td>\n",
       "      <td>0.444906</td>\n",
       "      <td>-0.058329</td>\n",
       "      <td>1.000000</td>\n",
       "    </tr>\n",
       "  </tbody>\n",
       "</table>\n",
       "</div>"
      ],
      "text/plain": [
       "          PRICE      SQFT       AGE     FEATS        NE      CUST       COR  \\\n",
       "PRICE  1.000000  0.844795 -0.167766  0.420272  0.167840  0.555292 -0.079293   \n",
       "SQFT   0.844795  1.000000  0.006073  0.394925  0.145030  0.520102  0.040528   \n",
       "AGE   -0.167766  0.006073  1.000000 -0.342862  0.205578  0.020354  0.082139   \n",
       "FEATS  0.420272  0.394925 -0.342862  1.000000  0.190016  0.241964 -0.041547   \n",
       "NE     0.167840  0.145030  0.205578  0.190016  1.000000  0.043033 -0.077336   \n",
       "CUST   0.555292  0.520102  0.020354  0.241964  0.043033  1.000000 -0.003994   \n",
       "COR   -0.079293  0.040528  0.082139 -0.041547 -0.077336 -0.003994  1.000000   \n",
       "TAX    0.844889  0.832674 -0.347671  0.419473  0.189230  0.444906 -0.058329   \n",
       "\n",
       "            TAX  \n",
       "PRICE  0.844889  \n",
       "SQFT   0.832674  \n",
       "AGE   -0.347671  \n",
       "FEATS  0.419473  \n",
       "NE     0.189230  \n",
       "CUST   0.444906  \n",
       "COR   -0.058329  \n",
       "TAX    1.000000  "
      ]
     },
     "execution_count": 199,
     "metadata": {},
     "output_type": "execute_result"
    }
   ],
   "source": [
    "df.corr()"
   ]
  },
  {
   "cell_type": "code",
   "execution_count": 200,
   "metadata": {},
   "outputs": [
    {
     "name": "stdout",
     "output_type": "stream",
     "text": [
      "R^2 =  0.7320966420178658\n"
     ]
    },
    {
     "data": {
      "text/html": [
       "<div>\n",
       "<style scoped>\n",
       "    .dataframe tbody tr th:only-of-type {\n",
       "        vertical-align: middle;\n",
       "    }\n",
       "\n",
       "    .dataframe tbody tr th {\n",
       "        vertical-align: top;\n",
       "    }\n",
       "\n",
       "    .dataframe thead th {\n",
       "        text-align: right;\n",
       "    }\n",
       "</style>\n",
       "<table border=\"1\" class=\"dataframe\">\n",
       "  <thead>\n",
       "    <tr style=\"text-align: right;\">\n",
       "      <th></th>\n",
       "      <th>predictor</th>\n",
       "      <th>coef</th>\n",
       "      <th>pvalue</th>\n",
       "    </tr>\n",
       "  </thead>\n",
       "  <tbody>\n",
       "    <tr>\n",
       "      <td>0</td>\n",
       "      <td>intercept</td>\n",
       "      <td>114.134824</td>\n",
       "      <td>0.082734</td>\n",
       "    </tr>\n",
       "    <tr>\n",
       "      <td>1</td>\n",
       "      <td>SQFT</td>\n",
       "      <td>0.553635</td>\n",
       "      <td>0.000000</td>\n",
       "    </tr>\n",
       "    <tr>\n",
       "      <td>2</td>\n",
       "      <td>CUST</td>\n",
       "      <td>142.859931</td>\n",
       "      <td>0.005787</td>\n",
       "    </tr>\n",
       "  </tbody>\n",
       "</table>\n",
       "</div>"
      ],
      "text/plain": [
       "   predictor        coef    pvalue\n",
       "0  intercept  114.134824  0.082734\n",
       "1       SQFT    0.553635  0.000000\n",
       "2       CUST  142.859931  0.005787"
      ]
     },
     "execution_count": 200,
     "metadata": {},
     "output_type": "execute_result"
    }
   ],
   "source": [
    "X = df[['SQFT', 'CUST']]\n",
    "model.fit(X, y)\n",
    "print('R^2 = ', model.score(X, y))\n",
    "regression_coef(model, X, y)"
   ]
  },
  {
   "cell_type": "code",
   "execution_count": 201,
   "metadata": {},
   "outputs": [
    {
     "data": {
      "image/png": "[encoded data removed]",
      "text/plain": [
       "<Figure size 432x288 with 1 Axes>"
      ]
     },
     "metadata": {
      "needs_background": "light"
     },
     "output_type": "display_data"
    }
   ],
   "source": [
    "df.plot.scatter(x = 'SQFT', y = 'PRICE')\n",
    "y1 = []\n",
    "for i in df['SQFT']:\n",
    "    y1.append(coef['coef'][0] + i*coef['coef'][1])\n",
    "plt.plot(df['SQFT'], y1, 'r')\n",
    "plt.show()"
   ]
  },
  {
   "cell_type": "markdown",
   "metadata": {},
   "source": [
    "# Предсказание по введенным данным:"
   ]
  },
  {
   "cell_type": "code",
   "execution_count": 233,
   "metadata": {},
   "outputs": [
    {
     "name": "stdout",
     "output_type": "stream",
     "text": [
      "Введите данные помещения: площадь, CUST: 2550 1\n"
     ]
    },
    {
     "data": {
      "text/html": [
       "<div>\n",
       "<style scoped>\n",
       "    .dataframe tbody tr th:only-of-type {\n",
       "        vertical-align: middle;\n",
       "    }\n",
       "\n",
       "    .dataframe tbody tr th {\n",
       "        vertical-align: top;\n",
       "    }\n",
       "\n",
       "    .dataframe thead th {\n",
       "        text-align: right;\n",
       "    }\n",
       "</style>\n",
       "<table border=\"1\" class=\"dataframe\">\n",
       "  <thead>\n",
       "    <tr style=\"text-align: right;\">\n",
       "      <th></th>\n",
       "      <th>SQFX</th>\n",
       "      <th>CUST</th>\n",
       "    </tr>\n",
       "  </thead>\n",
       "  <tbody>\n",
       "    <tr>\n",
       "      <td>0</td>\n",
       "      <td>2550</td>\n",
       "      <td>1</td>\n",
       "    </tr>\n",
       "  </tbody>\n",
       "</table>\n",
       "</div>"
      ],
      "text/plain": [
       "   SQFX CUST\n",
       "0  2550    1"
      ]
     },
     "metadata": {},
     "output_type": "display_data"
    },
    {
     "name": "stdout",
     "output_type": "stream",
     "text": [
      "Примерная цена дома: [1668.76507622]\n"
     ]
    }
   ],
   "source": [
    "a1, a2 = input('Введите данные помещения: площадь, CUST: ').split()\n",
    "data = pd.DataFrame(columns = ['SQFX', 'CUST'])\n",
    "data.loc[0] = [a1, a2]\n",
    "print('Примерная цена дома:', model.predict(data))"
   ]
  },
  {
   "cell_type": "markdown",
   "metadata": {},
   "source": [
    "# 3.\tБриллианты. Разобрать все примеры. Построить три модели. Построить графики с линиями регрессий. Объяснить выбор модели."
   ]
  },
  {
   "cell_type": "code",
   "execution_count": 127,
   "metadata": {},
   "outputs": [
    {
     "data": {
      "text/html": [
       "<div>\n",
       "<style scoped>\n",
       "    .dataframe tbody tr th:only-of-type {\n",
       "        vertical-align: middle;\n",
       "    }\n",
       "\n",
       "    .dataframe tbody tr th {\n",
       "        vertical-align: top;\n",
       "    }\n",
       "\n",
       "    .dataframe thead th {\n",
       "        text-align: right;\n",
       "    }\n",
       "</style>\n",
       "<table border=\"1\" class=\"dataframe\">\n",
       "  <thead>\n",
       "    <tr style=\"text-align: right;\">\n",
       "      <th></th>\n",
       "      <th>weight</th>\n",
       "      <th>price</th>\n",
       "    </tr>\n",
       "  </thead>\n",
       "  <tbody>\n",
       "    <tr>\n",
       "      <td>0</td>\n",
       "      <td>0.17</td>\n",
       "      <td>355</td>\n",
       "    </tr>\n",
       "    <tr>\n",
       "      <td>1</td>\n",
       "      <td>0.16</td>\n",
       "      <td>328</td>\n",
       "    </tr>\n",
       "    <tr>\n",
       "      <td>2</td>\n",
       "      <td>0.17</td>\n",
       "      <td>350</td>\n",
       "    </tr>\n",
       "    <tr>\n",
       "      <td>3</td>\n",
       "      <td>0.18</td>\n",
       "      <td>325</td>\n",
       "    </tr>\n",
       "    <tr>\n",
       "      <td>4</td>\n",
       "      <td>0.25</td>\n",
       "      <td>642</td>\n",
       "    </tr>\n",
       "  </tbody>\n",
       "</table>\n",
       "</div>"
      ],
      "text/plain": [
       "   weight  price\n",
       "0    0.17    355\n",
       "1    0.16    328\n",
       "2    0.17    350\n",
       "3    0.18    325\n",
       "4    0.25    642"
      ]
     },
     "execution_count": 127,
     "metadata": {},
     "output_type": "execute_result"
    }
   ],
   "source": [
    "df = pd.read_csv('diamond.dat', header=None, sep='\\s+', names=['weight', 'price'])\n",
    "df.head()"
   ]
  },
  {
   "cell_type": "code",
   "execution_count": 128,
   "metadata": {},
   "outputs": [
    {
     "data": {
      "text/html": [
       "<div>\n",
       "<style scoped>\n",
       "    .dataframe tbody tr th:only-of-type {\n",
       "        vertical-align: middle;\n",
       "    }\n",
       "\n",
       "    .dataframe tbody tr th {\n",
       "        vertical-align: top;\n",
       "    }\n",
       "\n",
       "    .dataframe thead th {\n",
       "        text-align: right;\n",
       "    }\n",
       "</style>\n",
       "<table border=\"1\" class=\"dataframe\">\n",
       "  <thead>\n",
       "    <tr style=\"text-align: right;\">\n",
       "      <th></th>\n",
       "      <th>weight</th>\n",
       "      <th>weight^2</th>\n",
       "    </tr>\n",
       "  </thead>\n",
       "  <tbody>\n",
       "    <tr>\n",
       "      <td>0</td>\n",
       "      <td>0.17</td>\n",
       "      <td>0.0289</td>\n",
       "    </tr>\n",
       "    <tr>\n",
       "      <td>1</td>\n",
       "      <td>0.16</td>\n",
       "      <td>0.0256</td>\n",
       "    </tr>\n",
       "    <tr>\n",
       "      <td>2</td>\n",
       "      <td>0.17</td>\n",
       "      <td>0.0289</td>\n",
       "    </tr>\n",
       "    <tr>\n",
       "      <td>3</td>\n",
       "      <td>0.18</td>\n",
       "      <td>0.0324</td>\n",
       "    </tr>\n",
       "    <tr>\n",
       "      <td>4</td>\n",
       "      <td>0.25</td>\n",
       "      <td>0.0625</td>\n",
       "    </tr>\n",
       "  </tbody>\n",
       "</table>\n",
       "</div>"
      ],
      "text/plain": [
       "   weight  weight^2\n",
       "0    0.17    0.0289\n",
       "1    0.16    0.0256\n",
       "2    0.17    0.0289\n",
       "3    0.18    0.0324\n",
       "4    0.25    0.0625"
      ]
     },
     "execution_count": 128,
     "metadata": {},
     "output_type": "execute_result"
    }
   ],
   "source": [
    "from sklearn.preprocessing import PolynomialFeatures\n",
    "poly = PolynomialFeatures(\n",
    "                          # Максимальная степень\n",
    "                          degree=2,\n",
    "                          # Не генерировать свободный член\n",
    "                          include_bias=False)\n",
    "y = df['price']\n",
    "X0 = poly.fit_transform(df[['weight']])\n",
    "X0 = pd.DataFrame(X0, columns=['weight', 'weight^2'])\n",
    "X0.head()"
   ]
  },
  {
   "cell_type": "code",
   "execution_count": 129,
   "metadata": {},
   "outputs": [],
   "source": [
    "X0 = [\n",
    "    # Одна оригинальная переменная weight\n",
    "    X0[['weight']],\n",
    "    # Одна переменная weight^2\n",
    "    X0[['weight^2']],\n",
    "    # Две переменных weight и weight^2\n",
    "    X0.copy()]\n",
    "models = [LinearRegression() for _ in X0]"
   ]
  },
  {
   "cell_type": "code",
   "execution_count": 131,
   "metadata": {},
   "outputs": [
    {
     "name": "stdout",
     "output_type": "stream",
     "text": [
      "0.978260777986033\n",
      "0.9703108184171091\n",
      "0.9789175801893899\n"
     ]
    }
   ],
   "source": [
    "for X, model in zip(X0, models):\n",
    "    model.fit(X, y)\n",
    "    print(model.score(X, y))"
   ]
  },
  {
   "cell_type": "code",
   "execution_count": 140,
   "metadata": {},
   "outputs": [
    {
     "data": {
      "text/html": [
       "<div>\n",
       "<style scoped>\n",
       "    .dataframe tbody tr th:only-of-type {\n",
       "        vertical-align: middle;\n",
       "    }\n",
       "\n",
       "    .dataframe tbody tr th {\n",
       "        vertical-align: top;\n",
       "    }\n",
       "\n",
       "    .dataframe thead th {\n",
       "        text-align: right;\n",
       "    }\n",
       "</style>\n",
       "<table border=\"1\" class=\"dataframe\">\n",
       "  <thead>\n",
       "    <tr style=\"text-align: right;\">\n",
       "      <th></th>\n",
       "      <th>predictor</th>\n",
       "      <th>coef</th>\n",
       "      <th>pvalue</th>\n",
       "    </tr>\n",
       "  </thead>\n",
       "  <tbody>\n",
       "    <tr>\n",
       "      <td>0</td>\n",
       "      <td>intercept</td>\n",
       "      <td>-259.625907</td>\n",
       "      <td>0.0</td>\n",
       "    </tr>\n",
       "    <tr>\n",
       "      <td>1</td>\n",
       "      <td>weight</td>\n",
       "      <td>3721.024852</td>\n",
       "      <td>0.0</td>\n",
       "    </tr>\n",
       "  </tbody>\n",
       "</table>\n",
       "</div>"
      ],
      "text/plain": [
       "   predictor         coef  pvalue\n",
       "0  intercept  -259.625907     0.0\n",
       "1     weight  3721.024852     0.0"
      ]
     },
     "execution_count": 140,
     "metadata": {},
     "output_type": "execute_result"
    }
   ],
   "source": [
    "coef1 = regression_coef(models[0], X0[0], y)\n",
    "coef1"
   ]
  },
  {
   "cell_type": "code",
   "execution_count": 160,
   "metadata": {},
   "outputs": [
    {
     "data": {
      "image/png": "[encoded data removed]",
      "text/plain": [
       "<Figure size 432x288 with 1 Axes>"
      ]
     },
     "metadata": {
      "needs_background": "light"
     },
     "output_type": "display_data"
    }
   ],
   "source": [
    "y11 = []\n",
    "df.plot.scatter(x = 'weight', y = 'price')\n",
    "for i in df['weight']:\n",
    "    y11.append(coef1['coef'][0] + i*coef1['coef'][1])\n",
    "plt.plot(df['weight'], y11, 'r')\n",
    "plt.show()"
   ]
  },
  {
   "cell_type": "code",
   "execution_count": 161,
   "metadata": {
    "scrolled": true
   },
   "outputs": [
    {
     "data": {
      "text/html": [
       "<div>\n",
       "<style scoped>\n",
       "    .dataframe tbody tr th:only-of-type {\n",
       "        vertical-align: middle;\n",
       "    }\n",
       "\n",
       "    .dataframe tbody tr th {\n",
       "        vertical-align: top;\n",
       "    }\n",
       "\n",
       "    .dataframe thead th {\n",
       "        text-align: right;\n",
       "    }\n",
       "</style>\n",
       "<table border=\"1\" class=\"dataframe\">\n",
       "  <thead>\n",
       "    <tr style=\"text-align: right;\">\n",
       "      <th></th>\n",
       "      <th>predictor</th>\n",
       "      <th>coef</th>\n",
       "      <th>pvalue</th>\n",
       "    </tr>\n",
       "  </thead>\n",
       "  <tbody>\n",
       "    <tr>\n",
       "      <td>0</td>\n",
       "      <td>intercept</td>\n",
       "      <td>141.659045</td>\n",
       "      <td>0.0</td>\n",
       "    </tr>\n",
       "    <tr>\n",
       "      <td>1</td>\n",
       "      <td>weight^2</td>\n",
       "      <td>7993.108083</td>\n",
       "      <td>0.0</td>\n",
       "    </tr>\n",
       "  </tbody>\n",
       "</table>\n",
       "</div>"
      ],
      "text/plain": [
       "   predictor         coef  pvalue\n",
       "0  intercept   141.659045     0.0\n",
       "1   weight^2  7993.108083     0.0"
      ]
     },
     "execution_count": 161,
     "metadata": {},
     "output_type": "execute_result"
    }
   ],
   "source": [
    "coef2 = regression_coef(models[1], X0[1], y)\n",
    "coef2"
   ]
  },
  {
   "cell_type": "code",
   "execution_count": 168,
   "metadata": {},
   "outputs": [
    {
     "data": {
      "image/png": "[encoded data removed]",
      "text/plain": [
       "<Figure size 432x288 with 1 Axes>"
      ]
     },
     "metadata": {
      "needs_background": "light"
     },
     "output_type": "display_data"
    }
   ],
   "source": [
    "y12 = []\n",
    "plt.scatter(df['weight']**2, df['price'])\n",
    "for i in df['weight']:\n",
    "    y12.append(coef2['coef'][0] + i**2*coef2['coef'][1])\n",
    "plt.plot(df['weight']**2, y12, 'r')\n",
    "plt.show()"
   ]
  },
  {
   "cell_type": "code",
   "execution_count": 142,
   "metadata": {
    "scrolled": true
   },
   "outputs": [
    {
     "data": {
      "text/html": [
       "<div>\n",
       "<style scoped>\n",
       "    .dataframe tbody tr th:only-of-type {\n",
       "        vertical-align: middle;\n",
       "    }\n",
       "\n",
       "    .dataframe tbody tr th {\n",
       "        vertical-align: top;\n",
       "    }\n",
       "\n",
       "    .dataframe thead th {\n",
       "        text-align: right;\n",
       "    }\n",
       "</style>\n",
       "<table border=\"1\" class=\"dataframe\">\n",
       "  <thead>\n",
       "    <tr style=\"text-align: right;\">\n",
       "      <th></th>\n",
       "      <th>predictor</th>\n",
       "      <th>coef</th>\n",
       "      <th>pvalue</th>\n",
       "    </tr>\n",
       "  </thead>\n",
       "  <tbody>\n",
       "    <tr>\n",
       "      <td>0</td>\n",
       "      <td>intercept</td>\n",
       "      <td>-174.130082</td>\n",
       "      <td>0.021866</td>\n",
       "    </tr>\n",
       "    <tr>\n",
       "      <td>1</td>\n",
       "      <td>weight</td>\n",
       "      <td>2920.130591</td>\n",
       "      <td>0.000077</td>\n",
       "    </tr>\n",
       "    <tr>\n",
       "      <td>2</td>\n",
       "      <td>weight^2</td>\n",
       "      <td>1739.901579</td>\n",
       "      <td>0.237265</td>\n",
       "    </tr>\n",
       "  </tbody>\n",
       "</table>\n",
       "</div>"
      ],
      "text/plain": [
       "   predictor         coef    pvalue\n",
       "0  intercept  -174.130082  0.021866\n",
       "1     weight  2920.130591  0.000077\n",
       "2   weight^2  1739.901579  0.237265"
      ]
     },
     "execution_count": 142,
     "metadata": {},
     "output_type": "execute_result"
    }
   ],
   "source": [
    "coef3 = regression_coef(models[2], X0[2], y)\n",
    "coef3"
   ]
  },
  {
   "cell_type": "code",
   "execution_count": 170,
   "metadata": {},
   "outputs": [
    {
     "data": {
      "image/png": "[encoded data removed]",
      "text/plain": [
       "<Figure size 432x288 with 1 Axes>"
      ]
     },
     "metadata": {
      "needs_background": "light"
     },
     "output_type": "display_data"
    }
   ],
   "source": [
    "y13 = []\n",
    "plt.scatter(df['weight'], df['price'])\n",
    "for i in df['weight']:\n",
    "    y13.append(coef3['coef'][0] + i*coef3['coef'][1]+i**2*coef3['coef'][2])\n",
    "plt.plot(df['weight'], y13, 'r')\n",
    "plt.show()"
   ]
  },
  {
   "cell_type": "code",
   "execution_count": 136,
   "metadata": {},
   "outputs": [
    {
     "name": "stdout",
     "output_type": "stream",
     "text": [
      "                            OLS Regression Results                            \n",
      "==============================================================================\n",
      "Dep. Variable:                  price   R-squared:                       0.979\n",
      "Model:                            OLS   Adj. R-squared:                  0.978\n",
      "Method:                 Least Squares   F-statistic:                     1045.\n",
      "Date:                Sun, 04 Oct 2020   Prob (F-statistic):           1.94e-38\n",
      "Time:                        23:19:06   Log-Likelihood:                -232.47\n",
      "No. Observations:                  48   AIC:                             470.9\n",
      "Df Residuals:                      45   BIC:                             476.5\n",
      "Df Model:                           2                                         \n",
      "Covariance Type:            nonrobust                                         \n",
      "==============================================================================\n",
      "                 coef    std err          t      P>|t|      [0.025      0.975]\n",
      "------------------------------------------------------------------------------\n",
      "const       -174.1301     74.238     -2.346      0.023    -323.653     -24.607\n",
      "weight      2920.1306    681.297      4.286      0.000    1547.928    4292.333\n",
      "weight^2    1739.9016   1469.472      1.184      0.243   -1219.767    4699.570\n",
      "==============================================================================\n",
      "Omnibus:                        1.961   Durbin-Watson:                   1.945\n",
      "Prob(Omnibus):                  0.375   Jarque-Bera (JB):                1.075\n",
      "Skew:                           0.215   Prob(JB):                        0.584\n",
      "Kurtosis:                       3.593   Cond. No.                         362.\n",
      "==============================================================================\n",
      "\n",
      "Warnings:\n",
      "[1] Standard Errors assume that the covariance matrix of the errors is correctly specified.\n"
     ]
    },
    {
     "name": "stderr",
     "output_type": "stream",
     "text": [
      "/Users/grigory/opt/anaconda3/lib/python3.7/site-packages/numpy/core/fromnumeric.py:2495: FutureWarning: Method .ptp is deprecated and will be removed in a future version. Use numpy.ptp instead.\n",
      "  return ptp(axis=axis, out=out, **kwargs)\n"
     ]
    }
   ],
   "source": [
    "import statsmodels.api as sm\n",
    "X2 = sm.add_constant(X0[2])\n",
    "est = sm.OLS(y, X2)\n",
    "est2 = est.fit()\n",
    "print(est2.summary())"
   ]
  },
  {
   "cell_type": "markdown",
   "metadata": {},
   "source": [
    "# 4.\tВременные ряды. Разобрать пример. Построить прогноз на следующие 12 месяцев. Вывести предсказанные результаты и результаты за последний (12-й год) в виде чисел."
   ]
  },
  {
   "cell_type": "code",
   "execution_count": 171,
   "metadata": {},
   "outputs": [
    {
     "data": {
      "text/html": [
       "<div>\n",
       "<style scoped>\n",
       "    .dataframe tbody tr th:only-of-type {\n",
       "        vertical-align: middle;\n",
       "    }\n",
       "\n",
       "    .dataframe tbody tr th {\n",
       "        vertical-align: top;\n",
       "    }\n",
       "\n",
       "    .dataframe thead th {\n",
       "        text-align: right;\n",
       "    }\n",
       "</style>\n",
       "<table border=\"1\" class=\"dataframe\">\n",
       "  <thead>\n",
       "    <tr style=\"text-align: right;\">\n",
       "      <th></th>\n",
       "      <th>date</th>\n",
       "      <th>series_g</th>\n",
       "    </tr>\n",
       "  </thead>\n",
       "  <tbody>\n",
       "    <tr>\n",
       "      <td>0</td>\n",
       "      <td>JAN 1949</td>\n",
       "      <td>112</td>\n",
       "    </tr>\n",
       "    <tr>\n",
       "      <td>1</td>\n",
       "      <td>FEB 1949</td>\n",
       "      <td>118</td>\n",
       "    </tr>\n",
       "    <tr>\n",
       "      <td>2</td>\n",
       "      <td>MAR 1949</td>\n",
       "      <td>132</td>\n",
       "    </tr>\n",
       "    <tr>\n",
       "      <td>3</td>\n",
       "      <td>APR 1949</td>\n",
       "      <td>129</td>\n",
       "    </tr>\n",
       "    <tr>\n",
       "      <td>4</td>\n",
       "      <td>MAY 1949</td>\n",
       "      <td>121</td>\n",
       "    </tr>\n",
       "  </tbody>\n",
       "</table>\n",
       "</div>"
      ],
      "text/plain": [
       "       date  series_g\n",
       "0  JAN 1949       112\n",
       "1  FEB 1949       118\n",
       "2  MAR 1949       132\n",
       "3  APR 1949       129\n",
       "4  MAY 1949       121"
      ]
     },
     "execution_count": 171,
     "metadata": {},
     "output_type": "execute_result"
    }
   ],
   "source": [
    "df = pd.read_csv('series_g.csv', sep=';')\n",
    "df.head()"
   ]
  },
  {
   "cell_type": "code",
   "execution_count": 172,
   "metadata": {},
   "outputs": [],
   "source": [
    "# Преобразуем строчки с датами в объект datetime\n",
    "# format='%b %Y' означает, что в нашей строчке сначала идёт трёхбуквенное название месяца (%b), а затем год (%Y)\n",
    "df['date'] = pd.to_datetime(df['date'], format='%b %Y')"
   ]
  },
  {
   "cell_type": "code",
   "execution_count": 173,
   "metadata": {},
   "outputs": [
    {
     "data": {
      "text/plain": [
       "Text(0, 0.5, 'log10 от тысяч человек')"
      ]
     },
     "execution_count": 173,
     "metadata": {},
     "output_type": "execute_result"
    },
    {
     "data": {
      "image/png": "[encoded data removed]",
      "text/plain": [
       "<Figure size 864x288 with 2 Axes>"
      ]
     },
     "metadata": {
      "needs_background": "light"
     },
     "output_type": "display_data"
    }
   ],
   "source": [
    "fig = plt.figure(figsize=(12, 4))\n",
    "ax1 = fig.add_subplot(121)\n",
    "df['series_g'].plot(ax=ax1)\n",
    "ax1.set_title(u'Объём пассажироперевозок')\n",
    "ax1.set_ylabel(u'Тысяч человек')\n",
    "\n",
    "ax2 = fig.add_subplot(122)\n",
    "pd.Series(np.log10(df['series_g'])).plot(ax=ax2)\n",
    "ax2.set_title(u'log10 от объёма пассажироперевозок')\n",
    "ax2.set_ylabel(u'log10 от тысяч человек')\n",
    "\n"
   ]
  },
  {
   "cell_type": "code",
   "execution_count": 174,
   "metadata": {},
   "outputs": [],
   "source": [
    "# Создаём последовательсть месяцев. freq='MS' означает первое число каждого месяца из указанного диапазона дат\n",
    "new_dates = pd.date_range('1961-01-01', '1961-12-01', freq='MS')\n",
    "# Приводим df['date'] к типу Index, объединяем с 12 месяцами, полученными на предыдущем шаге\n",
    "new_dates = pd.Index(df['date']) | new_dates\n",
    "# Создаём датафрейм из одной колонки с расширенным набором дат\n",
    "df2 = pd.DataFrame({'date': new_dates})\n",
    "# Объединяем два датафрейма по колонке 'date'.\n",
    "df = pd.merge(df, df2, on='date', how='right')"
   ]
  },
  {
   "cell_type": "code",
   "execution_count": 175,
   "metadata": {},
   "outputs": [],
   "source": [
    "df['month_num'] = range(1, len(df) + 1)\n",
    "df['log_y'] = np.log10(df['series_g'])"
   ]
  },
  {
   "cell_type": "code",
   "execution_count": 177,
   "metadata": {},
   "outputs": [],
   "source": [
    "for x in range(1, 13):\n",
    "    df['season_' + str(x)] = df['date'].dt.month == x"
   ]
  },
  {
   "cell_type": "code",
   "execution_count": 179,
   "metadata": {},
   "outputs": [],
   "source": [
    "# xrange(2, 13) соответствует всем месяцам с февраля по декабрь\n",
    "season_columns = ['season_' + str(x) for x in range(2, 13)]\n",
    "\n",
    "# Создадим объекты матрицу X и вектор y для обучения модели\n",
    "X = df[['month_num'] + season_columns]\n",
    "y = df['log_y']\n",
    "\n",
    "# Оставим только те строчки, у которых известны значения y (с номером < 144)\n",
    "X1 = X[X.index < 144]\n",
    "y1 = y[y.index < 144]"
   ]
  },
  {
   "cell_type": "code",
   "execution_count": 180,
   "metadata": {},
   "outputs": [
    {
     "data": {
      "text/plain": [
       "LinearRegression(copy_X=True, fit_intercept=True, n_jobs=None, normalize=False)"
      ]
     },
     "execution_count": 180,
     "metadata": {},
     "output_type": "execute_result"
    }
   ],
   "source": [
    "model = LinearRegression()\n",
    "model.fit(X1, y1)"
   ]
  },
  {
   "cell_type": "code",
   "execution_count": 181,
   "metadata": {},
   "outputs": [
    {
     "data": {
      "text/plain": [
       "<matplotlib.axes._subplots.AxesSubplot at 0x7fa2e5db5b50>"
      ]
     },
     "execution_count": 181,
     "metadata": {},
     "output_type": "execute_result"
    },
    {
     "data": {
      "image/png": "[encoded data removed]",
      "text/plain": [
       "<Figure size 432x288 with 1 Axes>"
      ]
     },
     "metadata": {
      "needs_background": "light"
     },
     "output_type": "display_data"
    }
   ],
   "source": [
    "pred = pd.DataFrame({\n",
    "    'pred': model.predict(X1),\n",
    "    'real': y1})\n",
    "pred.plot()"
   ]
  },
  {
   "cell_type": "code",
   "execution_count": 182,
   "metadata": {},
   "outputs": [
    {
     "data": {
      "text/plain": [
       "<matplotlib.axes._subplots.AxesSubplot at 0x7fa2e6501210>"
      ]
     },
     "execution_count": 182,
     "metadata": {},
     "output_type": "execute_result"
    },
    {
     "data": {
      "image/png": "[encoded data removed]",
      "text/plain": [
       "<Figure size 432x288 with 1 Axes>"
      ]
     },
     "metadata": {
      "needs_background": "light"
     },
     "output_type": "display_data"
    }
   ],
   "source": [
    "pred = pd.DataFrame({\n",
    "    'pred': model.predict(X),\n",
    "    'real': y})\n",
    "pred.plot()"
   ]
  },
  {
   "cell_type": "markdown",
   "metadata": {},
   "source": [
    "# Вывести предсказанные результаты и результаты за последний (12-й год) в виде чисел"
   ]
  },
  {
   "cell_type": "code",
   "execution_count": 229,
   "metadata": {},
   "outputs": [
    {
     "data": {
      "text/plain": [
       "0      114.074207\n",
       "1      112.715073\n",
       "2      129.691568\n",
       "3      126.971040\n",
       "4      127.952000\n",
       "          ...    \n",
       "151    698.240208\n",
       "152    610.328529\n",
       "153    536.951593\n",
       "154    469.777436\n",
       "155    531.760310\n",
       "Name: pred, Length: 156, dtype: float64"
      ]
     },
     "execution_count": 229,
     "metadata": {},
     "output_type": "execute_result"
    }
   ],
   "source": [
    "10**pred['pred'] #все предсказанные данные"
   ]
  },
  {
   "cell_type": "code",
   "execution_count": 230,
   "metadata": {},
   "outputs": [
    {
     "data": {
      "text/plain": [
       "144    486.266611\n",
       "145    480.473001\n",
       "146    552.839079\n",
       "147    541.242225\n",
       "148    545.423784\n",
       "149    622.521448\n",
       "150    697.700003\n",
       "151    698.240208\n",
       "152    610.328529\n",
       "153    536.951593\n",
       "154    469.777436\n",
       "155    531.760310\n",
       "Name: pred, dtype: float64"
      ]
     },
     "execution_count": 230,
     "metadata": {},
     "output_type": "execute_result"
    }
   ],
   "source": [
    "10**pred['pred'][-12:] #последний год"
   ]
  },
  {
   "cell_type": "code",
   "execution_count": null,
   "metadata": {},
   "outputs": [],
   "source": []
  }
 ],
 "metadata": {
  "kernelspec": {
   "display_name": "Python 3",
   "language": "python",
   "name": "python3"
  },
  "language_info": {
   "codemirror_mode": {
    "name": "ipython",
    "version": 3
   },
   "file_extension": ".py",
   "mimetype": "text/x-python",
   "name": "python",
   "nbconvert_exporter": "python",
   "pygments_lexer": "ipython3",
   "version": "3.7.4"
  }
 },
 "nbformat": 4,
 "nbformat_minor": 2
}
